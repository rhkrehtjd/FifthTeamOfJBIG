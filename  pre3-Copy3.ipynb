{
 "cells": [
  {
   "cell_type": "markdown",
   "id": "46481e5a-056a-415a-ae0d-999330416312",
   "metadata": {},
   "source": [
    "# review 3"
   ]
  },
  {
   "cell_type": "markdown",
   "id": "e3a3bd3b-64ae-4d75-8bcf-406c1b221a6a",
   "metadata": {},
   "source": [
    "- 사이킷런으로 수행하는 타이타닉 생존자 예측"
   ]
  },
  {
   "cell_type": "code",
   "execution_count": 1,
   "id": "28ee7083-e9b6-46e9-be4c-6335b63b82b4",
   "metadata": {},
   "outputs": [
    {
     "name": "stderr",
     "output_type": "stream",
     "text": [
      "C:\\Users\\ehfus\\Anaconda3\\envs\\dv2021\\lib\\site-packages\\numpy\\_distributor_init.py:30: UserWarning: loaded more than 1 DLL from .libs:\n",
      "C:\\Users\\ehfus\\Anaconda3\\envs\\dv2021\\lib\\site-packages\\numpy\\.libs\\libopenblas.EL2C6PLE4ZYW3ECEVIV3OXXGRN2NRFM2.gfortran-win_amd64.dll\n",
      "C:\\Users\\ehfus\\Anaconda3\\envs\\dv2021\\lib\\site-packages\\numpy\\.libs\\libopenblas.XWYDX2IKJW2NMTWSFYNGFUWKQU3LYTCZ.gfortran-win_amd64.dll\n",
      "  warnings.warn(\"loaded more than 1 DLL from .libs:\"\n"
     ]
    },
    {
     "data": {
      "text/html": [
       "<div>\n",
       "<style scoped>\n",
       "    .dataframe tbody tr th:only-of-type {\n",
       "        vertical-align: middle;\n",
       "    }\n",
       "\n",
       "    .dataframe tbody tr th {\n",
       "        vertical-align: top;\n",
       "    }\n",
       "\n",
       "    .dataframe thead th {\n",
       "        text-align: right;\n",
       "    }\n",
       "</style>\n",
       "<table border=\"1\" class=\"dataframe\">\n",
       "  <thead>\n",
       "    <tr style=\"text-align: right;\">\n",
       "      <th></th>\n",
       "      <th>PassengerId</th>\n",
       "      <th>Survived</th>\n",
       "      <th>Pclass</th>\n",
       "      <th>Name</th>\n",
       "      <th>Sex</th>\n",
       "      <th>Age</th>\n",
       "      <th>SibSp</th>\n",
       "      <th>Parch</th>\n",
       "      <th>Ticket</th>\n",
       "      <th>Fare</th>\n",
       "      <th>Cabin</th>\n",
       "      <th>Embarked</th>\n",
       "    </tr>\n",
       "  </thead>\n",
       "  <tbody>\n",
       "    <tr>\n",
       "      <th>0</th>\n",
       "      <td>1</td>\n",
       "      <td>0</td>\n",
       "      <td>3</td>\n",
       "      <td>Braund, Mr. Owen Harris</td>\n",
       "      <td>male</td>\n",
       "      <td>22.0</td>\n",
       "      <td>1</td>\n",
       "      <td>0</td>\n",
       "      <td>A/5 21171</td>\n",
       "      <td>7.2500</td>\n",
       "      <td>NaN</td>\n",
       "      <td>S</td>\n",
       "    </tr>\n",
       "    <tr>\n",
       "      <th>1</th>\n",
       "      <td>2</td>\n",
       "      <td>1</td>\n",
       "      <td>1</td>\n",
       "      <td>Cumings, Mrs. John Bradley (Florence Briggs Th...</td>\n",
       "      <td>female</td>\n",
       "      <td>38.0</td>\n",
       "      <td>1</td>\n",
       "      <td>0</td>\n",
       "      <td>PC 17599</td>\n",
       "      <td>71.2833</td>\n",
       "      <td>C85</td>\n",
       "      <td>C</td>\n",
       "    </tr>\n",
       "    <tr>\n",
       "      <th>2</th>\n",
       "      <td>3</td>\n",
       "      <td>1</td>\n",
       "      <td>3</td>\n",
       "      <td>Heikkinen, Miss. Laina</td>\n",
       "      <td>female</td>\n",
       "      <td>26.0</td>\n",
       "      <td>0</td>\n",
       "      <td>0</td>\n",
       "      <td>STON/O2. 3101282</td>\n",
       "      <td>7.9250</td>\n",
       "      <td>NaN</td>\n",
       "      <td>S</td>\n",
       "    </tr>\n",
       "  </tbody>\n",
       "</table>\n",
       "</div>"
      ],
      "text/plain": [
       "   PassengerId  Survived  Pclass  \\\n",
       "0            1         0       3   \n",
       "1            2         1       1   \n",
       "2            3         1       3   \n",
       "\n",
       "                                                Name     Sex   Age  SibSp  \\\n",
       "0                            Braund, Mr. Owen Harris    male  22.0      1   \n",
       "1  Cumings, Mrs. John Bradley (Florence Briggs Th...  female  38.0      1   \n",
       "2                             Heikkinen, Miss. Laina  female  26.0      0   \n",
       "\n",
       "   Parch            Ticket     Fare Cabin Embarked  \n",
       "0      0         A/5 21171   7.2500   NaN        S  \n",
       "1      0          PC 17599  71.2833   C85        C  \n",
       "2      0  STON/O2. 3101282   7.9250   NaN        S  "
      ]
     },
     "execution_count": 1,
     "metadata": {},
     "output_type": "execute_result"
    }
   ],
   "source": [
    "import numpy as np\n",
    "import pandas as pd\n",
    "import matplotlib.pyplot as plt\n",
    "import seaborn as sns\n",
    "%matplotlib inline\n",
    "\n",
    "titanic_df = pd.read_csv('train.csv')\n",
    "titanic_df.head(3)"
   ]
  },
  {
   "cell_type": "markdown",
   "id": "8f519dda-57e8-475d-b6c8-824f9e23b306",
   "metadata": {},
   "source": [
    "- 칼럼 타입 확인해보자"
   ]
  },
  {
   "cell_type": "code",
   "execution_count": 2,
   "id": "f51c9c2a-d82c-4f28-92cd-829337f4c25b",
   "metadata": {},
   "outputs": [
    {
     "name": "stdout",
     "output_type": "stream",
     "text": [
      "<class 'pandas.core.frame.DataFrame'>\n",
      "RangeIndex: 891 entries, 0 to 890\n",
      "Data columns (total 12 columns):\n",
      " #   Column       Non-Null Count  Dtype  \n",
      "---  ------       --------------  -----  \n",
      " 0   PassengerId  891 non-null    int64  \n",
      " 1   Survived     891 non-null    int64  \n",
      " 2   Pclass       891 non-null    int64  \n",
      " 3   Name         891 non-null    object \n",
      " 4   Sex          891 non-null    object \n",
      " 5   Age          714 non-null    float64\n",
      " 6   SibSp        891 non-null    int64  \n",
      " 7   Parch        891 non-null    int64  \n",
      " 8   Ticket       891 non-null    object \n",
      " 9   Fare         891 non-null    float64\n",
      " 10  Cabin        204 non-null    object \n",
      " 11  Embarked     889 non-null    object \n",
      "dtypes: float64(2), int64(5), object(5)\n",
      "memory usage: 83.7+ KB\n"
     ]
    }
   ],
   "source": [
    "titanic_df.info()"
   ]
  },
  {
   "cell_type": "markdown",
   "id": "e9530fbc-0622-4deb-be9a-1b58a3ab6ff3",
   "metadata": {},
   "source": [
    "- pandas의 object 타입은 string 문자열 타입으로 봐도 무방하다. \n",
    "- 사이킷런 머신러닝 알고리즘은 Null 값을 허용하지 않으므로 전처리 수행해야 함\n",
    "  - DataFrame의 fillna() 함수를 사용해 간단하게 Null 값을 평균 또는 고정 값으로 변경하자."
   ]
  },
  {
   "cell_type": "markdown",
   "id": "ec38bf1c-9495-46f3-9064-b9455a525eb5",
   "metadata": {},
   "source": [
    "- Null 컬럼들에 대한 전처리"
   ]
  },
  {
   "cell_type": "code",
   "execution_count": 3,
   "id": "2a961f16-7d92-416f-ae2c-d8683bfd8f03",
   "metadata": {},
   "outputs": [
    {
     "name": "stdout",
     "output_type": "stream",
     "text": [
      "데이터 세트 Null 값 갯수  0\n"
     ]
    }
   ],
   "source": [
    "titanic_df['Age'].fillna(titanic_df['Age'].mean(),inplace=True)\n",
    "titanic_df['Cabin'].fillna('N',inplace=True) # 어차피 문자열 칼럼이라서 일단 Null도 문자열로 변환\n",
    "titanic_df['Embarked'].fillna('N',inplace=True) # 어차피 문자열 칼럼이라서 일단 Null도 문자열로 변환\n",
    "\n",
    "print('데이터 세트 Null 값 갯수 ',titanic_df.isnull().sum().sum())"
   ]
  },
  {
   "cell_type": "code",
   "execution_count": 4,
   "id": "90ffbc35-5d94-4bd5-bdec-e8a5e4fea413",
   "metadata": {},
   "outputs": [
    {
     "data": {
      "text/html": [
       "<div>\n",
       "<style scoped>\n",
       "    .dataframe tbody tr th:only-of-type {\n",
       "        vertical-align: middle;\n",
       "    }\n",
       "\n",
       "    .dataframe tbody tr th {\n",
       "        vertical-align: top;\n",
       "    }\n",
       "\n",
       "    .dataframe thead th {\n",
       "        text-align: right;\n",
       "    }\n",
       "</style>\n",
       "<table border=\"1\" class=\"dataframe\">\n",
       "  <thead>\n",
       "    <tr style=\"text-align: right;\">\n",
       "      <th></th>\n",
       "      <th>PassengerId</th>\n",
       "      <th>Survived</th>\n",
       "      <th>Pclass</th>\n",
       "      <th>Name</th>\n",
       "      <th>Sex</th>\n",
       "      <th>Age</th>\n",
       "      <th>SibSp</th>\n",
       "      <th>Parch</th>\n",
       "      <th>Ticket</th>\n",
       "      <th>Fare</th>\n",
       "      <th>Cabin</th>\n",
       "      <th>Embarked</th>\n",
       "    </tr>\n",
       "  </thead>\n",
       "  <tbody>\n",
       "    <tr>\n",
       "      <th>0</th>\n",
       "      <td>False</td>\n",
       "      <td>False</td>\n",
       "      <td>False</td>\n",
       "      <td>False</td>\n",
       "      <td>False</td>\n",
       "      <td>False</td>\n",
       "      <td>False</td>\n",
       "      <td>False</td>\n",
       "      <td>False</td>\n",
       "      <td>False</td>\n",
       "      <td>False</td>\n",
       "      <td>False</td>\n",
       "    </tr>\n",
       "    <tr>\n",
       "      <th>1</th>\n",
       "      <td>False</td>\n",
       "      <td>False</td>\n",
       "      <td>False</td>\n",
       "      <td>False</td>\n",
       "      <td>False</td>\n",
       "      <td>False</td>\n",
       "      <td>False</td>\n",
       "      <td>False</td>\n",
       "      <td>False</td>\n",
       "      <td>False</td>\n",
       "      <td>False</td>\n",
       "      <td>False</td>\n",
       "    </tr>\n",
       "    <tr>\n",
       "      <th>2</th>\n",
       "      <td>False</td>\n",
       "      <td>False</td>\n",
       "      <td>False</td>\n",
       "      <td>False</td>\n",
       "      <td>False</td>\n",
       "      <td>False</td>\n",
       "      <td>False</td>\n",
       "      <td>False</td>\n",
       "      <td>False</td>\n",
       "      <td>False</td>\n",
       "      <td>False</td>\n",
       "      <td>False</td>\n",
       "    </tr>\n",
       "    <tr>\n",
       "      <th>3</th>\n",
       "      <td>False</td>\n",
       "      <td>False</td>\n",
       "      <td>False</td>\n",
       "      <td>False</td>\n",
       "      <td>False</td>\n",
       "      <td>False</td>\n",
       "      <td>False</td>\n",
       "      <td>False</td>\n",
       "      <td>False</td>\n",
       "      <td>False</td>\n",
       "      <td>False</td>\n",
       "      <td>False</td>\n",
       "    </tr>\n",
       "    <tr>\n",
       "      <th>4</th>\n",
       "      <td>False</td>\n",
       "      <td>False</td>\n",
       "      <td>False</td>\n",
       "      <td>False</td>\n",
       "      <td>False</td>\n",
       "      <td>False</td>\n",
       "      <td>False</td>\n",
       "      <td>False</td>\n",
       "      <td>False</td>\n",
       "      <td>False</td>\n",
       "      <td>False</td>\n",
       "      <td>False</td>\n",
       "    </tr>\n",
       "    <tr>\n",
       "      <th>...</th>\n",
       "      <td>...</td>\n",
       "      <td>...</td>\n",
       "      <td>...</td>\n",
       "      <td>...</td>\n",
       "      <td>...</td>\n",
       "      <td>...</td>\n",
       "      <td>...</td>\n",
       "      <td>...</td>\n",
       "      <td>...</td>\n",
       "      <td>...</td>\n",
       "      <td>...</td>\n",
       "      <td>...</td>\n",
       "    </tr>\n",
       "    <tr>\n",
       "      <th>886</th>\n",
       "      <td>False</td>\n",
       "      <td>False</td>\n",
       "      <td>False</td>\n",
       "      <td>False</td>\n",
       "      <td>False</td>\n",
       "      <td>False</td>\n",
       "      <td>False</td>\n",
       "      <td>False</td>\n",
       "      <td>False</td>\n",
       "      <td>False</td>\n",
       "      <td>False</td>\n",
       "      <td>False</td>\n",
       "    </tr>\n",
       "    <tr>\n",
       "      <th>887</th>\n",
       "      <td>False</td>\n",
       "      <td>False</td>\n",
       "      <td>False</td>\n",
       "      <td>False</td>\n",
       "      <td>False</td>\n",
       "      <td>False</td>\n",
       "      <td>False</td>\n",
       "      <td>False</td>\n",
       "      <td>False</td>\n",
       "      <td>False</td>\n",
       "      <td>False</td>\n",
       "      <td>False</td>\n",
       "    </tr>\n",
       "    <tr>\n",
       "      <th>888</th>\n",
       "      <td>False</td>\n",
       "      <td>False</td>\n",
       "      <td>False</td>\n",
       "      <td>False</td>\n",
       "      <td>False</td>\n",
       "      <td>False</td>\n",
       "      <td>False</td>\n",
       "      <td>False</td>\n",
       "      <td>False</td>\n",
       "      <td>False</td>\n",
       "      <td>False</td>\n",
       "      <td>False</td>\n",
       "    </tr>\n",
       "    <tr>\n",
       "      <th>889</th>\n",
       "      <td>False</td>\n",
       "      <td>False</td>\n",
       "      <td>False</td>\n",
       "      <td>False</td>\n",
       "      <td>False</td>\n",
       "      <td>False</td>\n",
       "      <td>False</td>\n",
       "      <td>False</td>\n",
       "      <td>False</td>\n",
       "      <td>False</td>\n",
       "      <td>False</td>\n",
       "      <td>False</td>\n",
       "    </tr>\n",
       "    <tr>\n",
       "      <th>890</th>\n",
       "      <td>False</td>\n",
       "      <td>False</td>\n",
       "      <td>False</td>\n",
       "      <td>False</td>\n",
       "      <td>False</td>\n",
       "      <td>False</td>\n",
       "      <td>False</td>\n",
       "      <td>False</td>\n",
       "      <td>False</td>\n",
       "      <td>False</td>\n",
       "      <td>False</td>\n",
       "      <td>False</td>\n",
       "    </tr>\n",
       "  </tbody>\n",
       "</table>\n",
       "<p>891 rows × 12 columns</p>\n",
       "</div>"
      ],
      "text/plain": [
       "     PassengerId  Survived  Pclass   Name    Sex    Age  SibSp  Parch  Ticket  \\\n",
       "0          False     False   False  False  False  False  False  False   False   \n",
       "1          False     False   False  False  False  False  False  False   False   \n",
       "2          False     False   False  False  False  False  False  False   False   \n",
       "3          False     False   False  False  False  False  False  False   False   \n",
       "4          False     False   False  False  False  False  False  False   False   \n",
       "..           ...       ...     ...    ...    ...    ...    ...    ...     ...   \n",
       "886        False     False   False  False  False  False  False  False   False   \n",
       "887        False     False   False  False  False  False  False  False   False   \n",
       "888        False     False   False  False  False  False  False  False   False   \n",
       "889        False     False   False  False  False  False  False  False   False   \n",
       "890        False     False   False  False  False  False  False  False   False   \n",
       "\n",
       "      Fare  Cabin  Embarked  \n",
       "0    False  False     False  \n",
       "1    False  False     False  \n",
       "2    False  False     False  \n",
       "3    False  False     False  \n",
       "4    False  False     False  \n",
       "..     ...    ...       ...  \n",
       "886  False  False     False  \n",
       "887  False  False     False  \n",
       "888  False  False     False  \n",
       "889  False  False     False  \n",
       "890  False  False     False  \n",
       "\n",
       "[891 rows x 12 columns]"
      ]
     },
     "execution_count": 4,
     "metadata": {},
     "output_type": "execute_result"
    }
   ],
   "source": [
    "titanic_df.isnull()"
   ]
  },
  {
   "cell_type": "code",
   "execution_count": 5,
   "id": "6fa9bab8-7361-4a8e-acd1-cae431fe43d4",
   "metadata": {},
   "outputs": [
    {
     "data": {
      "text/plain": [
       "PassengerId    0\n",
       "Survived       0\n",
       "Pclass         0\n",
       "Name           0\n",
       "Sex            0\n",
       "Age            0\n",
       "SibSp          0\n",
       "Parch          0\n",
       "Ticket         0\n",
       "Fare           0\n",
       "Cabin          0\n",
       "Embarked       0\n",
       "dtype: int64"
      ]
     },
     "execution_count": 5,
     "metadata": {},
     "output_type": "execute_result"
    }
   ],
   "source": [
    "titanic_df.isnull().sum()"
   ]
  },
  {
   "cell_type": "code",
   "execution_count": 6,
   "id": "8e104cb4-1d5b-423b-9172-0327c5ca99ea",
   "metadata": {},
   "outputs": [
    {
     "data": {
      "text/plain": [
       "0"
      ]
     },
     "execution_count": 6,
     "metadata": {},
     "output_type": "execute_result"
    }
   ],
   "source": [
    "titanic_df.isnull().sum().sum()"
   ]
  },
  {
   "cell_type": "markdown",
   "id": "75884b24-8a61-4e38-81f7-54bfb01274b9",
   "metadata": {},
   "source": [
    "- 현재 남아있는 문자열 feature는 Sex,Cabin,Embarked이다. "
   ]
  },
  {
   "cell_type": "code",
   "execution_count": 7,
   "id": "e0234680-9c80-49e3-8394-1f30839fc460",
   "metadata": {},
   "outputs": [
    {
     "name": "stdout",
     "output_type": "stream",
     "text": [
      " Sex 값 분포 :\n",
      " male      577\n",
      "female    314\n",
      "Name: Sex, dtype: int64\n",
      "\n",
      " Cabin 값 분포 :\n",
      " N              687\n",
      "C23 C25 C27      4\n",
      "G6               4\n",
      "B96 B98          4\n",
      "C22 C26          3\n",
      "              ... \n",
      "E34              1\n",
      "C7               1\n",
      "C54              1\n",
      "E36              1\n",
      "C148             1\n",
      "Name: Cabin, Length: 148, dtype: int64\n",
      "\n",
      " Embarked 값 분포 :\n",
      " S    644\n",
      "C    168\n",
      "Q     77\n",
      "N      2\n",
      "Name: Embarked, dtype: int64\n"
     ]
    }
   ],
   "source": [
    "print(' Sex 값 분포 :\\n',titanic_df['Sex'].value_counts())\n",
    "print('\\n Cabin 값 분포 :\\n',titanic_df['Cabin'].value_counts())\n",
    "print('\\n Embarked 값 분포 :\\n',titanic_df['Embarked'].value_counts())"
   ]
  },
  {
   "cell_type": "markdown",
   "id": "884e5cab-7daa-4b1e-b7b4-143f1f3beb5f",
   "metadata": {},
   "source": [
    "- Cabin의 경우 N이 687건으로 가장 많은 것이 좀 특이하긴 함.\n",
    "  - 속성값이 제대로 정리되지 않은 것 같음\n",
    "- Cabin의 경우 첫글자가 제일 중요해보이므로 첫글자만 따서 재정리해보자"
   ]
  },
  {
   "cell_type": "code",
   "execution_count": 8,
   "id": "1e11473b-b839-4e2f-bdcc-4f63c79b6bd8",
   "metadata": {},
   "outputs": [
    {
     "data": {
      "text/plain": [
       "0         N\n",
       "1       C85\n",
       "2         N\n",
       "3      C123\n",
       "4         N\n",
       "       ... \n",
       "886       N\n",
       "887     B42\n",
       "888       N\n",
       "889    C148\n",
       "890       N\n",
       "Name: Cabin, Length: 891, dtype: object"
      ]
     },
     "execution_count": 8,
     "metadata": {},
     "output_type": "execute_result"
    }
   ],
   "source": [
    "titanic_df['Cabin']"
   ]
  },
  {
   "cell_type": "code",
   "execution_count": 9,
   "id": "d39453cf-17b2-4d96-a85e-1e475d03ef9c",
   "metadata": {},
   "outputs": [
    {
     "name": "stdout",
     "output_type": "stream",
     "text": [
      "0    N\n",
      "1    C\n",
      "2    N\n",
      "Name: Cabin, dtype: object\n"
     ]
    },
    {
     "data": {
      "text/plain": [
       "N    687\n",
       "C     59\n",
       "B     47\n",
       "D     33\n",
       "E     32\n",
       "A     15\n",
       "F     13\n",
       "G      4\n",
       "T      1\n",
       "Name: Cabin, dtype: int64"
      ]
     },
     "execution_count": 9,
     "metadata": {},
     "output_type": "execute_result"
    }
   ],
   "source": [
    "# 문자열 인덱싱해서 새로운 열 생성하기(여기서는 기존의 열 Cabin을 인덱싱해서 기존의 열 구성을 변경해준 것임)\n",
    "# 문자열 쪼개서 새로운 열을 생성해줄 수도 있다.\n",
    "# 다음을 참고한다. \n",
    "# https://hleecaster.com/pandas-data-cleaning-2/\n",
    "titanic_df['Cabin'] = titanic_df['Cabin'].str[:1]\n",
    "print(titanic_df['Cabin'].head(3))\n",
    "titanic_df['Cabin'].value_counts()"
   ]
  },
  {
   "cell_type": "markdown",
   "id": "cf221671-4a1a-41d4-9361-2838c3e42bf3",
   "metadata": {},
   "source": [
    "- 머신러닝 알고리즘을 적용해 예측 수행 전, 데이터를 먼저 탐색해보자\n",
    "  - 어떤 유형의 승객이 생존 확률이 높을까?\n",
    "  - 성별이 생존 확률에 어떤 영향을 미쳤는지, 성별에 따른 생존자 수를 비교해보자"
   ]
  },
  {
   "cell_type": "code",
   "execution_count": 10,
   "id": "30e8d0ca-3772-4d32-9149-5f484dd4d708",
   "metadata": {},
   "outputs": [
    {
     "data": {
      "text/plain": [
       "Sex     Survived\n",
       "female  0            81\n",
       "        1           233\n",
       "male    0           468\n",
       "        1           109\n",
       "Name: Survived, dtype: int64"
      ]
     },
     "execution_count": 10,
     "metadata": {},
     "output_type": "execute_result"
    }
   ],
   "source": [
    "titanic_df.groupby(['Sex','Survived'])['Survived'].count()"
   ]
  },
  {
   "cell_type": "code",
   "execution_count": 11,
   "id": "7beb335b-bb5e-430d-b806-307793b2ad9c",
   "metadata": {},
   "outputs": [
    {
     "data": {
      "text/plain": [
       "<AxesSubplot:xlabel='Sex', ylabel='Survived'>"
      ]
     },
     "execution_count": 11,
     "metadata": {},
     "output_type": "execute_result"
    },
    {
     "data": {
      "image/png": "[encoded data removed]",
      "text/plain": [
       "<Figure size 432x288 with 1 Axes>"
      ]
     },
     "metadata": {
      "needs_background": "light"
     },
     "output_type": "display_data"
    }
   ],
   "source": [
    "sns.barplot(x='Sex', y='Survived', data = titanic_df)"
   ]
  },
  {
   "cell_type": "markdown",
   "id": "93385e26-4178-4c04-8705-0a34de591a91",
   "metadata": {},
   "source": [
    "- 부자와 가난한 사람 간의 생존 확률에 대해 알아보자\n",
    "  - 객실 등급으로 확인할 수 있을 것이다. \n",
    "  - + 성별까지 함께 고려해보자 \n",
    "    - hue 파라미터를 추가해주면 된다. "
   ]
  },
  {
   "cell_type": "code",
   "execution_count": 12,
   "id": "8e8883a2-4ed8-43a9-a101-e80faf32c8e4",
   "metadata": {},
   "outputs": [
    {
     "data": {
      "text/plain": [
       "<AxesSubplot:xlabel='Pclass', ylabel='Survived'>"
      ]
     },
     "execution_count": 12,
     "metadata": {},
     "output_type": "execute_result"
    },
    {
     "data": {
      "image/png": "[encoded data removed]",
      "text/plain": [
       "<Figure size 432x288 with 1 Axes>"
      ]
     },
     "metadata": {
      "needs_background": "light"
     },
     "output_type": "display_data"
    }
   ],
   "source": [
    "sns.barplot(x = 'Pclass', y = 'Survived', hue = 'Sex', data = titanic_df)"
   ]
  },
  {
   "cell_type": "markdown",
   "id": "6fcc737c-946d-4735-b7db-ef6dd716f45a",
   "metadata": {},
   "source": [
    "- 분석\n",
    "  - 여성의 경우 일,이등실에 따른 생존 확률의 차이가 크지 않으나. 삼등실의 경우 생존 확률이 상대적으로 많이 떨어졌다.\n",
    "  - 남성의 경우 일등실의 생존확률이 이,삼등실의 생존확률보다 월등히 높다. "
   ]
  },
  {
   "cell_type": "markdown",
   "id": "c87c43f5-f629-4a40-a7d0-ebf4f88868b6",
   "metadata": {},
   "source": [
    "- Age에 따른 생존 확률을 알아보자\n",
    "  - 값 종류가 많기 때문에 카테고리를 나눠서 분석해보자"
   ]
  },
  {
   "cell_type": "code",
   "execution_count": 13,
   "id": "a976f224-f524-477b-abb4-70321e4b323a",
   "metadata": {},
   "outputs": [
    {
     "data": {
      "image/png": "[encoded data removed]",
      "text/plain": [
       "<Figure size 720x432 with 1 Axes>"
      ]
     },
     "metadata": {
      "needs_background": "light"
     },
     "output_type": "display_data"
    }
   ],
   "source": [
    "# 입력 age에 따라 구분값을 반환하는 함수 설정. DataFrame의 apply lambda식에 사용. \n",
    "def get_category(age):\n",
    "    cat = ''\n",
    "    if age <= -1 : cat = 'Unknown'\n",
    "    elif age <= 5 : cat = 'Baby'\n",
    "    elif age <= 12 : cat = 'Child'\n",
    "    elif age <= 18 : cat = 'Teenager'\n",
    "    elif age <= 25 : cat = 'Student'\n",
    "    elif age <= 35 : cat = 'Young Adult'\n",
    "    elif age <= 60 : cat = 'Adult'\n",
    "    else : cat = 'Elderly'\n",
    "    \n",
    "    return cat\n",
    "\n",
    "# 막대그래프의 크기 figure를 더 크게 설정 \n",
    "plt.figure(figsize=(10,6))\n",
    "\n",
    "# X축의 값을 순차적으로 표시하기 위한 설정 \n",
    "group_names = ['Unknown', 'Baby', 'Child', 'Teenager', 'Student', 'Young Adult', 'Adult', 'Elderly']\n",
    "\n",
    "# lambda 식에 위에서 생성한 get_category( ) 함수를 반환값으로 지정. \n",
    "# DataFrame의 apply lambda식에 사용\n",
    "# get_category(X)는 입력값으로 'Age' 컬럼값을 받아서 해당하는 cat 반환\n",
    "titanic_df['Age_cat'] = titanic_df['Age'].apply(lambda x : get_category(x))\n",
    "sns.barplot(x='Age_cat', y = 'Survived', hue='Sex', data=titanic_df, order=group_names)\n",
    "# order = group_names을 통해 X축의 값을 순차적으로 표시해준다.\n",
    "titanic_df.drop('Age_cat', axis=1, inplace=True) # 그래프 그리려고 사용했던 칼럼이니까 사용 뒤 삭제해주는 것"
   ]
  },
  {
   "cell_type": "markdown",
   "id": "a36bed0b-dd58-46f1-9a4f-c99e59092854",
   "metadata": {},
   "source": [
    "- 분석\n",
    "  - 여자 Baby의 경우 생존 확률이 높다. \n",
    "  - 여자 Child의 경우 다른 연령대에 비해 생존 확률이 낮다. \n",
    "  - 여자 Elderly의 경우 매우 높은 생존 확률을 보인다. \n",
    "\n",
    "---\n",
    ">  결론\n",
    "\n",
    "    Sex, Age, PClass 등이 생존을 좌우하는 feature임을 어느 정도 확인할 수 있었다. "
   ]
  },
  {
   "cell_type": "markdown",
   "id": "552ce205-e29d-47d5-a0af-912a82a32430",
   "metadata": {},
   "source": [
    "---"
   ]
  },
  {
   "cell_type": "markdown",
   "id": "07b2f31d-a3fd-4450-9315-249a7cca9f07",
   "metadata": {},
   "source": [
    "- 좀 전에 확인했던 문자열 카테고리 피처를 숫자형 카테고리 피처로 변환해보자\n",
    "  - LabelEncoder 클래스 활용"
   ]
  },
  {
   "cell_type": "code",
   "execution_count": 14,
   "id": "30748a15-4bb0-4783-9ac4-a67eb73a955c",
   "metadata": {},
   "outputs": [
    {
     "data": {
      "text/html": [
       "<div>\n",
       "<style scoped>\n",
       "    .dataframe tbody tr th:only-of-type {\n",
       "        vertical-align: middle;\n",
       "    }\n",
       "\n",
       "    .dataframe tbody tr th {\n",
       "        vertical-align: top;\n",
       "    }\n",
       "\n",
       "    .dataframe thead th {\n",
       "        text-align: right;\n",
       "    }\n",
       "</style>\n",
       "<table border=\"1\" class=\"dataframe\">\n",
       "  <thead>\n",
       "    <tr style=\"text-align: right;\">\n",
       "      <th></th>\n",
       "      <th>PassengerId</th>\n",
       "      <th>Survived</th>\n",
       "      <th>Pclass</th>\n",
       "      <th>Name</th>\n",
       "      <th>Sex</th>\n",
       "      <th>Age</th>\n",
       "      <th>SibSp</th>\n",
       "      <th>Parch</th>\n",
       "      <th>Ticket</th>\n",
       "      <th>Fare</th>\n",
       "      <th>Cabin</th>\n",
       "      <th>Embarked</th>\n",
       "    </tr>\n",
       "  </thead>\n",
       "  <tbody>\n",
       "    <tr>\n",
       "      <th>0</th>\n",
       "      <td>1</td>\n",
       "      <td>0</td>\n",
       "      <td>3</td>\n",
       "      <td>Braund, Mr. Owen Harris</td>\n",
       "      <td>1</td>\n",
       "      <td>22.0</td>\n",
       "      <td>1</td>\n",
       "      <td>0</td>\n",
       "      <td>A/5 21171</td>\n",
       "      <td>7.2500</td>\n",
       "      <td>7</td>\n",
       "      <td>3</td>\n",
       "    </tr>\n",
       "    <tr>\n",
       "      <th>1</th>\n",
       "      <td>2</td>\n",
       "      <td>1</td>\n",
       "      <td>1</td>\n",
       "      <td>Cumings, Mrs. John Bradley (Florence Briggs Th...</td>\n",
       "      <td>0</td>\n",
       "      <td>38.0</td>\n",
       "      <td>1</td>\n",
       "      <td>0</td>\n",
       "      <td>PC 17599</td>\n",
       "      <td>71.2833</td>\n",
       "      <td>2</td>\n",
       "      <td>0</td>\n",
       "    </tr>\n",
       "    <tr>\n",
       "      <th>2</th>\n",
       "      <td>3</td>\n",
       "      <td>1</td>\n",
       "      <td>3</td>\n",
       "      <td>Heikkinen, Miss. Laina</td>\n",
       "      <td>0</td>\n",
       "      <td>26.0</td>\n",
       "      <td>0</td>\n",
       "      <td>0</td>\n",
       "      <td>STON/O2. 3101282</td>\n",
       "      <td>7.9250</td>\n",
       "      <td>7</td>\n",
       "      <td>3</td>\n",
       "    </tr>\n",
       "    <tr>\n",
       "      <th>3</th>\n",
       "      <td>4</td>\n",
       "      <td>1</td>\n",
       "      <td>1</td>\n",
       "      <td>Futrelle, Mrs. Jacques Heath (Lily May Peel)</td>\n",
       "      <td>0</td>\n",
       "      <td>35.0</td>\n",
       "      <td>1</td>\n",
       "      <td>0</td>\n",
       "      <td>113803</td>\n",
       "      <td>53.1000</td>\n",
       "      <td>2</td>\n",
       "      <td>3</td>\n",
       "    </tr>\n",
       "    <tr>\n",
       "      <th>4</th>\n",
       "      <td>5</td>\n",
       "      <td>0</td>\n",
       "      <td>3</td>\n",
       "      <td>Allen, Mr. William Henry</td>\n",
       "      <td>1</td>\n",
       "      <td>35.0</td>\n",
       "      <td>0</td>\n",
       "      <td>0</td>\n",
       "      <td>373450</td>\n",
       "      <td>8.0500</td>\n",
       "      <td>7</td>\n",
       "      <td>3</td>\n",
       "    </tr>\n",
       "  </tbody>\n",
       "</table>\n",
       "</div>"
      ],
      "text/plain": [
       "   PassengerId  Survived  Pclass  \\\n",
       "0            1         0       3   \n",
       "1            2         1       1   \n",
       "2            3         1       3   \n",
       "3            4         1       1   \n",
       "4            5         0       3   \n",
       "\n",
       "                                                Name  Sex   Age  SibSp  Parch  \\\n",
       "0                            Braund, Mr. Owen Harris    1  22.0      1      0   \n",
       "1  Cumings, Mrs. John Bradley (Florence Briggs Th...    0  38.0      1      0   \n",
       "2                             Heikkinen, Miss. Laina    0  26.0      0      0   \n",
       "3       Futrelle, Mrs. Jacques Heath (Lily May Peel)    0  35.0      1      0   \n",
       "4                           Allen, Mr. William Henry    1  35.0      0      0   \n",
       "\n",
       "             Ticket     Fare  Cabin  Embarked  \n",
       "0         A/5 21171   7.2500      7         3  \n",
       "1          PC 17599  71.2833      2         0  \n",
       "2  STON/O2. 3101282   7.9250      7         3  \n",
       "3            113803  53.1000      2         3  \n",
       "4            373450   8.0500      7         3  "
      ]
     },
     "execution_count": 14,
     "metadata": {},
     "output_type": "execute_result"
    }
   ],
   "source": [
    "from sklearn import preprocessing\n",
    "\n",
    "def encode_features(dataDF):\n",
    "    features = ['Cabin', 'Sex', 'Embarked']\n",
    "    for feature in features:\n",
    "        le = preprocessing.LabelEncoder() # 객체 생성\n",
    "        le = le.fit(dataDF[feature]) # 데이터 변환을 위한 기준 정보 설정\n",
    "        dataDF[feature] = le.transform(dataDF[feature]) # 설정된 기준 정보를 이용하여 데이터 변환\n",
    "        \n",
    "    return dataDF\n",
    "\n",
    "titanic_df = encode_features(titanic_df)\n",
    "titanic_df.head()"
   ]
  },
  {
   "cell_type": "markdown",
   "id": "ac5f084d-7032-40ca-afd0-31b765a45373",
   "metadata": {},
   "source": [
    "- for문에서 features를 지정해준 속성들이 숫자형으로 바뀐 것을 알 수 있다. "
   ]
  },
  {
   "cell_type": "markdown",
   "id": "d9865c14-d423-410c-9aae-abccf679174c",
   "metadata": {},
   "source": [
    "---"
   ]
  },
  {
   "cell_type": "markdown",
   "id": "f74d1ecf-fbff-49f8-8231-18606deaa9c9",
   "metadata": {},
   "source": [
    "- 지금까지 수행한 전처리\n",
    "  - 1) Null 처리\n",
    "  - 2) 머신러닝 알고리즘에 불필요한 속성 제거\n",
    "  - 3) 레이블 인코딩\n",
    "  - 그리고 1)~3)을 호출해줄 함수 설정"
   ]
  },
  {
   "cell_type": "code",
   "execution_count": 15,
   "id": "68c3d8c9-8aef-47d9-b1dc-6299acc00f44",
   "metadata": {},
   "outputs": [],
   "source": [
    "from sklearn.preprocessing import LabelEncoder\n",
    "\n",
    "# Null 처리 함수\n",
    "def fillna(df):\n",
    "    df['Age'].fillna(df['Age'].mean(),inplace=True)\n",
    "    df['Cabin'].fillna('N',inplace=True) # 애초에 문자열이었기 때문에 그냥 'N'으로 채워주는 것\n",
    "    df['Embarked'].fillna('N',inplace=True) # # 애초에 문자열이었기 때문에 그냥 'N'으로 채워주는 것\n",
    "    df['Fare'].fillna(0,inplace=True)\n",
    "    return df\n",
    "\n",
    "# 머신러닝 알고리즘에 불필요한 속성 제거\n",
    "def drop_features(df):\n",
    "    df.drop(['PassengerId','Name','Ticket'],axis=1,inplace=True)\n",
    "    return df\n",
    "\n",
    "# 레이블 인코딩 수행. \n",
    "def format_features(df):\n",
    "    df['Cabin'] = df['Cabin'].str[:1]\n",
    "    features = ['Cabin','Sex','Embarked']\n",
    "    for feature in features:\n",
    "        le = LabelEncoder()\n",
    "        le = le.fit(df[feature])\n",
    "        df[feature] = le.transform(df[feature])\n",
    "    return df\n",
    "\n",
    "######### 위 세 함수 모두 마지막에 return df를 입력해주었는데\n",
    "######### 그렇게 함으로써 아래에서 df=df, df=df, df=df 를 통해 df를 함수를 이용한 결과로 업데이트 해줄 수 있다. \n",
    "\n",
    "\n",
    "\n",
    "# 앞에서 설정한 Data Preprocessing 함수 호출\n",
    "def transform_features(df):\n",
    "    df = fillna(df)\n",
    "    df = drop_features(df)\n",
    "    df = format_features(df)\n",
    "    return df"
   ]
  },
  {
   "cell_type": "markdown",
   "id": "14d37c91-20ab-4e04-997a-eb82709a01b1",
   "metadata": {},
   "source": [
    "- 이제 데이터 전처리 수행하는 함수인 `transfrom_features`를 만든 것이다.\n",
    "  - 이를 이용해 원본 데이터를 한 번 가공해보자"
   ]
  },
  {
   "cell_type": "code",
   "execution_count": 16,
   "id": "2ad45ca4-8320-4cf6-8519-a3844b7a2ba2",
   "metadata": {},
   "outputs": [],
   "source": [
    "# 원본 데이터를 재로딩 하고, feature데이터 셋과 Label 데이터 셋 추출. \n",
    "titanic_df = pd.read_csv('train.csv')\n",
    "y_titanic_df = titanic_df['Survived']\n",
    "X_titanic_df= titanic_df.drop('Survived',axis=1)\n",
    "\n",
    "X_titanic_df = transform_features(X_titanic_df)"
   ]
  },
  {
   "cell_type": "markdown",
   "id": "681eb972-3e0d-4e6f-ac3b-ad63f8eb233a",
   "metadata": {},
   "source": [
    "- 테스트 데이터 추출"
   ]
  },
  {
   "cell_type": "code",
   "execution_count": 17,
   "id": "05df0513-0654-4463-84d4-aa41580c30c4",
   "metadata": {},
   "outputs": [],
   "source": [
    "from sklearn.model_selection import train_test_split\n",
    "X_train, X_test, y_train, y_test=train_test_split(X_titanic_df, y_titanic_df, \\\n",
    "                                                  test_size=0.2, random_state=11)"
   ]
  },
  {
   "cell_type": "markdown",
   "id": "090e1fc6-0112-4df7-9f55-25aa7cb72e5d",
   "metadata": {},
   "source": [
    "- ML 알고리즘인 결정 트리, 랜덤 포레스트, 로지스틱 회귀를 이용해 생존자 예측을 수행해보자\n",
    "  - 예측 성능 평가는 accuracy, 정확도로 한다. "
   ]
  },
  {
   "cell_type": "code",
   "execution_count": 18,
   "id": "cb13954f-e502-4d54-9448-c55d31374138",
   "metadata": {},
   "outputs": [
    {
     "name": "stdout",
     "output_type": "stream",
     "text": [
      "DecisionTreeClassifier 정확도: 0.7877\n",
      "RandomForestClassifier 정확도:0.8547\n"
     ]
    }
   ],
   "source": [
    "from sklearn.tree import DecisionTreeClassifier\n",
    "from sklearn.ensemble import RandomForestClassifier\n",
    "from sklearn.linear_model import LogisticRegression\n",
    "from sklearn.metrics import accuracy_score #  예측 성능 평가\n",
    "\n",
    "# 결정트리, Random Forest, 로지스틱 회귀를 위한 사이킷런 Classifier 클래스 생성\n",
    "dt_clf = DecisionTreeClassifier(random_state=11) # 객체 생성\n",
    "rf_clf = RandomForestClassifier(random_state=11) # 객체 생성\n",
    "lr_clf = LogisticRegression() # 객체 생성 , 회귀이기 때문에 random_state 설정해줄 필요 없다. \n",
    "\n",
    "# DecisionTreeClassifier 학습/예측/평가\n",
    "dt_clf.fit(X_train , y_train)\n",
    "dt_pred = dt_clf.predict(X_test)\n",
    "print('DecisionTreeClassifier 정확도: {0:.4f}'.format(accuracy_score(y_test, dt_pred)))\n",
    "\n",
    "# RandomForestClassifier 학습/예측/평가\n",
    "rf_clf.fit(X_train , y_train)\n",
    "rf_pred = rf_clf.predict(X_test)\n",
    "print('RandomForestClassifier 정확도:{0:.4f}'.format(accuracy_score(y_test, rf_pred)))\n",
    "\n",
    "# error 발생 부분\n",
    "# LogisticRegression 학습/예측/평가\n",
    "# lr_clf.fit(X_train , y_train)\n",
    "# lr_pred = lr_clf.predict(X_test)\n",
    "# print('LogisticRegression 정확도: {0:.4f}'.format(accuracy_score(y_test, lr_pred)))"
   ]
  },
  {
   "cell_type": "markdown",
   "id": "c45002b3-4f94-4b99-b8a4-64ee831b9cc4",
   "metadata": {},
   "source": [
    "> 결론 : 3개의 ML 모델 中 LogisticRegression 정확도가 가장 높음"
   ]
  },
  {
   "cell_type": "markdown",
   "id": "8c2a6b7e-09df-48c9-a4b4-58d5ef4e2641",
   "metadata": {},
   "source": [
    "---"
   ]
  },
  {
   "cell_type": "markdown",
   "id": "9b88c9b3-5369-4226-bdaa-46fc53e98b93",
   "metadata": {},
   "source": [
    "- 마지막 줄은  'str' object has no attribute 'decode'라는 ERROR 발생\n",
    "  - [해결책 출처](https://www.inflearn.com/questions/126731)\n",
    "  - sol 1) !pip install h5py==2.10.0\n",
    "  - sol 2) !pip install h5py==2.10.0 --force-reinstall (Anaconda prompt 관리자 권한 실행)\n",
    "  - sol 3) markdown==3.2.2 설치\n",
    "  - 모두 해결 안 된다면, 내부 패키지가 꼬였을 확률 높음\n",
    "    - Google Colab으로 해결하면 된다."
   ]
  },
  {
   "cell_type": "markdown",
   "id": "f4fd05f8-e407-40b0-8811-f5aee2d33192",
   "metadata": {},
   "source": [
    "---"
   ]
  },
  {
   "cell_type": "markdown",
   "id": "76ce6d1b-b03c-488c-9e03-4b982801604c",
   "metadata": {},
   "source": [
    "- 사이킷런의 KFold 클래스를 이용해 교차 검증을 수행하며, 폴드 개수는 5개로 설정한다."
   ]
  },
  {
   "cell_type": "code",
   "execution_count": 19,
   "id": "6fbc4262-f67d-4870-ac44-2d15cbcde2f8",
   "metadata": {},
   "outputs": [
    {
     "name": "stdout",
     "output_type": "stream",
     "text": [
      "교차 검증 0 정확도: 0.7542\n",
      "교차 검증 1 정확도: 0.7809\n",
      "교차 검증 2 정확도: 0.7865\n",
      "교차 검증 3 정확도: 0.7697\n",
      "교차 검증 4 정확도: 0.8202\n",
      "평균 정확도: 0.7823\n"
     ]
    }
   ],
   "source": [
    "from sklearn.model_selection import KFold\n",
    "from sklearn.tree import DecisionTreeClassifier\n",
    "dt_clf = DecisionTreeClassifier(random_state=11)\n",
    "\n",
    "\n",
    "def exec_kfold(clf, folds=5): # clf = 모델의 객체 자리\n",
    "    kfold = KFold(n_splits=folds) # 폴드 세트를 5개인 KFold 객체를 생성\n",
    "    scores = [] # 폴드 수만큼 예측결과 저장을 위한 리스트 객체 생성\n",
    "    \n",
    "    # KFold 교차 검증 수행. \n",
    "    for iter_count , (train_index, test_index) in enumerate(kfold.split(X_titanic_df)):\n",
    "        # X_titanic_df 데이터에서 교차 검증별로 학습과 검증 데이터를 가리키는 index 생성\n",
    "        # enumerate : 이 함수는 순서가 있는 자료형(list, set, tuple, dictionary, string)을 입력으로 받아서 \n",
    "        # 인덱스 값을 포함(!!!)하는 enumerate 객체를 리턴합니다, 그에 따른 결과도 보여주고.\n",
    "        \n",
    "        X_train, X_test = X_titanic_df.values[train_index], X_titanic_df.values[test_index]\n",
    "        y_train, y_test = y_titanic_df.values[train_index], y_titanic_df.values[test_index]\n",
    "        \n",
    "        # Classifier 학습, 예측, 정확도 계산 \n",
    "        clf.fit(X_train, y_train)  # 학습\n",
    "        predictions = clf.predict(X_test)  # 예측\n",
    "        accuracy = accuracy_score(y_test, predictions)  # 정확도\n",
    "        scores.append(accuracy) # 종전에 정확도 담으려고 만들어뒀던 list\n",
    "        print(\"교차 검증 {0} 정확도: {1:.4f}\".format(iter_count, accuracy))     \n",
    "    \n",
    "    # 5개 fold에서의 평균 정확도 계산. \n",
    "    # for문 벗어났음\n",
    "    mean_score = np.mean(scores)\n",
    "    print(\"평균 정확도: {0:.4f}\".format(mean_score)) \n",
    "# exec_kfold 호출\n",
    "exec_kfold(dt_clf , folds=5) "
   ]
  },
  {
   "cell_type": "code",
   "execution_count": 20,
   "id": "11e2ebec-5ecb-4b6e-815b-375d383ff962",
   "metadata": {},
   "outputs": [
    {
     "data": {
      "text/plain": [
       "<generator object _BaseKFold.split at 0x000001FF27489CF0>"
      ]
     },
     "execution_count": 20,
     "metadata": {},
     "output_type": "execute_result"
    }
   ],
   "source": [
    "kfold = KFold(n_splits=5)\n",
    "kfold.split(X_titanic_df)"
   ]
  },
  {
   "cell_type": "markdown",
   "id": "12787d1e-a722-477b-a080-d71a7b4cfa5b",
   "metadata": {},
   "source": [
    "- iterable과 iterator의 의미\n",
    "  - https://bluese05.tistory.com/55\n",
    "- generator\n",
    "  - https://bluese05.tistory.com/56\n",
    "  - iterator를 생성해주는 function이다. \n",
    "  - iterator는 next() 메소드를 이용해 데이터에 순차적으로 접근이 가능한 object이다. "
   ]
  },
  {
   "cell_type": "markdown",
   "id": "36c3782f-5897-4ec1-9a0f-f7791932b73e",
   "metadata": {},
   "source": [
    "- 교차 검증을 cross_val_score() API를 이용해 수행해보자"
   ]
  },
  {
   "cell_type": "code",
   "execution_count": 21,
   "id": "9c716d28-f621-4673-9827-e609cbb808e9",
   "metadata": {},
   "outputs": [
    {
     "name": "stdout",
     "output_type": "stream",
     "text": [
      "교차 검증 0 정확도: 0.7430\n",
      "교차 검증 1 정확도: 0.7753\n",
      "교차 검증 2 정확도: 0.7921\n",
      "교차 검증 3 정확도: 0.7865\n",
      "교차 검증 4 정확도: 0.8427\n",
      "평균 정확도: 0.7879\n"
     ]
    }
   ],
   "source": [
    "from sklearn.model_selection import cross_val_score\n",
    "\n",
    "scores = cross_val_score(dt_clf, X_titanic_df , y_titanic_df , cv=5)\n",
    "for iter_count,accuracy in enumerate(scores):\n",
    "    print(\"교차 검증 {0} 정확도: {1:.4f}\".format(iter_count, accuracy))\n",
    "\n",
    "print(\"평균 정확도: {0:.4f}\".format(np.mean(scores)))"
   ]
  },
  {
   "cell_type": "markdown",
   "id": "c2907de4-44f6-463b-9e60-1f7090daad6d",
   "metadata": {},
   "source": [
    "- K폴드의 평균 정확도가 약간 상이한데, 이는 cross_val_score()가 stratifiedKFold를 이용해 폴드세트를 분할하기 때문이다."
   ]
  },
  {
   "cell_type": "markdown",
   "id": "b785e4e7-43ef-4602-ad47-4b660eaa8d24",
   "metadata": {},
   "source": [
    "- GridSearchCV를 이용해 최적 하이퍼 파라미터를 찾고 예측 성능을 측정하자"
   ]
  },
  {
   "cell_type": "code",
   "execution_count": 22,
   "id": "d6574bc1-1697-4f2c-b61d-e1e7b070ae9b",
   "metadata": {},
   "outputs": [
    {
     "name": "stdout",
     "output_type": "stream",
     "text": [
      "GridSearchCV 최적 하이퍼 파라미터 : {'max_depth': 3, 'min_samples_leaf': 5, 'min_samples_split': 2}\n",
      "GridSearchCV 최고 정확도: 0.7992\n",
      "테스트 세트에서의 DecisionTreeClassifier 정확도 : 0.8715\n"
     ]
    }
   ],
   "source": [
    "from sklearn.model_selection import GridSearchCV\n",
    "\n",
    "parameters = {'max_depth':[2,3,5,10],\n",
    "             'min_samples_split':[2,3,5], 'min_samples_leaf':[1,5,8]}\n",
    "\n",
    "grid_dclf = GridSearchCV(dt_clf , param_grid=parameters , scoring='accuracy' , cv=5)\n",
    "grid_dclf.fit(X_train , y_train)\n",
    "\n",
    "print('GridSearchCV 최적 하이퍼 파라미터 :',grid_dclf.best_params_)\n",
    "print('GridSearchCV 최고 정확도: {0:.4f}'.format(grid_dclf.best_score_))\n",
    "\n",
    "# 최적 하이퍼 파라미터로 학습된 estimator를 이용해,\\\n",
    "# 위의 train_test_split으로 분리된 테스트 데이터 세트에 예측을 수행해 정확도 출력\n",
    "best_dclf = grid_dclf.best_estimator_\n",
    "\n",
    "# GridSearchCV의 최적 하이퍼 파라미터로 학습된 Estimator로 예측 및 평가 수행. \n",
    "dpredictions = best_dclf.predict(X_test) # 예측\n",
    "accuracy = accuracy_score(y_test , dpredictions) # 평가\n",
    "print('테스트 세트에서의 DecisionTreeClassifier 정확도 : {0:.4f}'.format(accuracy))"
   ]
  },
  {
   "cell_type": "markdown",
   "id": "2ba5cf68-a325-4b60-92dd-94a897c8c4ff",
   "metadata": {},
   "source": [
    "- 일반적으로 하이퍼 파라미터를 튜닝하더라도 이 정도 수준으로 증가하기는 매우 어렵다.\n",
    "- 테스트용 데이터 세트가 작기 때문에 수치상으로 예측 성능이 많이 증가한 것처럼 보인다."
   ]
  },
  {
   "cell_type": "markdown",
   "id": "8498ad08-fa38-4ccb-b586-cca38f46b746",
   "metadata": {},
   "source": [
    "***`테스트 데이터의 건수 부족이나 고정된 테스트 데이터 세트를 이용한 반복적인 모델의 학습과 평가는 해당 테스트 데이터 세트에만 치우친 빈약한 머신러닝 모델을 만들 가능성이 높다.`***\n",
    "  - 이를 해결하기 위해\n",
    "    - 학습 데이터 세트를 학습 데이터와 검증 데이터로 구성된 여러 개의 폴드 세트로 분리해 교차 검증을 수행할 수 있다.\n",
    "    - KFold, StratifiedKFold, cross_val_score, GridSearchCV"
   ]
  },
  {
   "cell_type": "markdown",
   "id": "21cbe8a8-4498-42a9-b008-e58398f389ca",
   "metadata": {},
   "source": [
    "---"
   ]
  },
  {
   "cell_type": "markdown",
   "id": "9f9448ea-281b-4dbc-af88-bb0a1b618637",
   "metadata": {},
   "source": [
    "- 분류의 성능 평가 지표에 대해 알아보자(특히나 이진 분류에서 중요)\n",
    "  - 정확도\n",
    "  - 오차행렬\n",
    "  - 정밀도\n",
    "  - 재현율\n",
    "  - F1 스코어\n",
    "  - ROC AUC"
   ]
  },
  {
   "cell_type": "markdown",
   "id": "60faf87f-daf3-4252-85da-8dfa0f65d2d7",
   "metadata": {},
   "source": [
    "- 분류\n",
    "  - 결정 클래스가 2개 : 이진 분류\n",
    "  - 결정 클래스가 여러 개 : 멀티 분류"
   ]
  },
  {
   "cell_type": "code",
   "execution_count": 23,
   "id": "1f0b3bb2-4f19-4bd3-9c3f-fda89e50e899",
   "metadata": {},
   "outputs": [],
   "source": [
    "import numpy as np\n",
    "from sklearn.base import BaseEstimator\n",
    "\n",
    "\n",
    "# BaseEstimator 클래스를 상속받아, 아무런 학습 X, 성별에 따라 생존자를 예측하는 단순한 Classifier를 생성\n",
    "# 사이킷런은 BaseEstimator를 상속받으면 Customized 형태의 Estimator를 개발자가 생성할 수 있다.\n",
    "class MyDummyClassifier(BaseEstimator): # 상속 받는 中\n",
    "   \n",
    "    # fit( ) 메소드는 아무것도 학습하지 않음. \n",
    "    def fit(self, X , y=None):\n",
    "        pass\n",
    "    \n",
    "    # predict( ) 메소드는 단순히 Sex feature가 1 이면 0 , 그렇지 않으면 1 로 예측함. \n",
    "    def predict(self, X):\n",
    "        pred = np.zeros( ( X.shape[0], 1 ))\n",
    "        for i in range (X.shape[0]) :\n",
    "            if X['Sex'].iloc[i] == 1:\n",
    "                pred[i] = 0\n",
    "            else :\n",
    "                pred[i] = 1\n",
    "        \n",
    "        return pred"
   ]
  },
  {
   "cell_type": "code",
   "execution_count": 24,
   "id": "0f9e8477-cb3a-4d90-bbf7-9973415c399d",
   "metadata": {},
   "outputs": [
    {
     "name": "stdout",
     "output_type": "stream",
     "text": [
      "Dummy Classifier의 정확도는: 0.7877\n"
     ]
    }
   ],
   "source": [
    "import pandas as pd\n",
    "from sklearn.model_selection import train_test_split\n",
    "from sklearn.metrics import accuracy_score\n",
    "\n",
    "# 원본 데이터를 재로딩, 데이터 가공, 학습데이터/테스트 데이터 분할. \n",
    "titanic_df = pd.read_csv('train.csv')\n",
    "y_titanic_df = titanic_df['Survived']\n",
    "X_titanic_df= titanic_df.drop('Survived', axis=1)\n",
    "X_titanic_df = transform_features(X_titanic_df) # 데이터 전처리하는 함수\n",
    "X_train, X_test, y_train, y_test=train_test_split(X_titanic_df, y_titanic_df, \\\n",
    "                                                  test_size=0.2, random_state=0)\n",
    "\n",
    "# 위에서 생성한 Dummy Classifier를 이용하여 학습/예측/평가 수행. \n",
    "myclf = MyDummyClassifier() # 객체 생성\n",
    "myclf.fit(X_train ,y_train) # 학습 수행\n",
    "mypredictions = myclf.predict(X_test) # 예측 수행\n",
    "print('Dummy Classifier의 정확도는: {0:.4f}'.format(accuracy_score(y_test , mypredictions))) # 평가 수행"
   ]
  },
  {
   "cell_type": "markdown",
   "id": "be7564e0-193a-46fe-a448-18d7d2887b81",
   "metadata": {},
   "source": [
    "- 정확도 평가지표의 맹점 : 데이터 분포도가 균일하지 않는 경우 높은 수치가 나타날 수 있음\n",
    "  - 150p 참고"
   ]
  },
  {
   "cell_type": "code",
   "execution_count": 25,
   "id": "79328342-42f7-4115-8226-86d1bcaafd26",
   "metadata": {},
   "outputs": [
    {
     "name": "stdout",
     "output_type": "stream",
     "text": [
      "[[ 0.  0.  5. ...  0.  0.  0.]\n",
      " [ 0.  0.  0. ... 10.  0.  0.]\n",
      " [ 0.  0.  0. ... 16.  9.  0.]\n",
      " ...\n",
      " [ 0.  0.  1. ...  6.  0.  0.]\n",
      " [ 0.  0.  2. ... 12.  0.  0.]\n",
      " [ 0.  0. 10. ... 12.  1.  0.]]\n",
      "### digits.data.shape: (1797, 64)\n",
      "[0 1 2 ... 8 9 8]\n",
      "### digits.target.shape: (1797,)\n"
     ]
    }
   ],
   "source": [
    "from sklearn.datasets import load_digits\n",
    "from sklearn.model_selection import train_test_split\n",
    "# Customized 형태의 Estimator를 생성할 수 있다. \n",
    "from sklearn.base import BaseEstimator\n",
    "from sklearn.metrics import accuracy_score\n",
    "import numpy as np\n",
    "import pandas as pd\n",
    "\n",
    "class MyFakeClassifier(BaseEstimator): # BaseEstimator 클래스로부터 상속받는 중\n",
    "    def fit(self,X,y):\n",
    "        pass # 학습은 건너뛴다. \n",
    "    \n",
    "    # 입력값으로 들어오는 X 데이터 셋의 크기만큼 모두 0값으로 만들어서 반환\n",
    "    def predict(self,X):\n",
    "        return np.zeros( (len(X), 1) , dtype=bool)\n",
    "\n",
    "# 사이킷런의 내장 데이터 셋인 load_digits( )를 이용하여 MNIST 데이터 로딩\n",
    "digits = load_digits()\n",
    "\n",
    "print(digits.data)\n",
    "print(\"### digits.data.shape:\", digits.data.shape)\n",
    "print(digits.target)\n",
    "print(\"### digits.target.shape:\", digits.target.shape)"
   ]
  },
  {
   "cell_type": "code",
   "execution_count": 26,
   "id": "4fe8e2d1-bb8b-40bd-bcf0-32fc0df9192f",
   "metadata": {},
   "outputs": [
    {
     "data": {
      "text/plain": [
       "array([False, False, False, ..., False, False, False])"
      ]
     },
     "execution_count": 26,
     "metadata": {},
     "output_type": "execute_result"
    }
   ],
   "source": [
    "digits.target == 7"
   ]
  },
  {
   "cell_type": "code",
   "execution_count": 27,
   "id": "1a1b5429-7704-45d5-be6f-b1724d418262",
   "metadata": {},
   "outputs": [
    {
     "data": {
      "text/plain": [
       "array([0, 0, 0, ..., 0, 0, 0])"
      ]
     },
     "execution_count": 27,
     "metadata": {},
     "output_type": "execute_result"
    }
   ],
   "source": [
    "(digits.target == 7).astype(int)"
   ]
  },
  {
   "cell_type": "code",
   "execution_count": 28,
   "id": "bc8b7c4a-0684-482e-a9b3-223bc1269e00",
   "metadata": {},
   "outputs": [],
   "source": [
    "# digits번호가 7번이면 True이고 이를 astype(int)로 1로 변환, 7번이 아니면 False이고 0으로 변환. \n",
    "y = (digits.target == 7).astype(int)\n",
    "X_train, X_test, y_train, y_test = train_test_split( digits.data, y, random_state=11)"
   ]
  },
  {
   "cell_type": "code",
   "execution_count": 29,
   "id": "72211459-d77e-41bb-93b4-3050f8446362",
   "metadata": {},
   "outputs": [
    {
     "data": {
      "text/plain": [
       "0      0\n",
       "1      0\n",
       "2      0\n",
       "3      0\n",
       "4      0\n",
       "      ..\n",
       "445    0\n",
       "446    0\n",
       "447    0\n",
       "448    0\n",
       "449    0\n",
       "Length: 450, dtype: int32"
      ]
     },
     "execution_count": 29,
     "metadata": {},
     "output_type": "execute_result"
    }
   ],
   "source": [
    "pd.Series(y_test)"
   ]
  },
  {
   "cell_type": "code",
   "execution_count": 30,
   "id": "c331d8f4-dea0-4e34-bde3-1ad69d96be05",
   "metadata": {},
   "outputs": [
    {
     "name": "stdout",
     "output_type": "stream",
     "text": [
      "레이블 테스트 세트 크기 : (450,)\n",
      "테스트 세트 레이블 0 과 1의 분포도\n",
      "0    405\n",
      "1     45\n",
      "dtype: int64\n",
      "모든 예측을 0으로 하여도 정확도는:0.900\n"
     ]
    }
   ],
   "source": [
    "# 불균형한 레이블 데이터 분포도 확인. \n",
    "print('레이블 테스트 세트 크기 :', y_test.shape)\n",
    "print('테스트 세트 레이블 0 과 1의 분포도')\n",
    "print(pd.Series(y_test).value_counts())\n",
    "\n",
    "# Dummy Classifier로 학습/예측/정확도 평가\n",
    "fakeclf = MyFakeClassifier()\n",
    "fakeclf.fit(X_train , y_train)\n",
    "fakepred = fakeclf.predict(X_test)\n",
    "print('모든 예측을 0으로 하여도 정확도는:{:.3f}'.format(accuracy_score(y_test , fakepred)))"
   ]
  },
  {
   "cell_type": "markdown",
   "id": "e6af56eb-25d1-4580-b2ea-a930aff53e2f",
   "metadata": {},
   "source": [
    "- 이처럼 정확도 평가 지표는 불균형한 레이블 데이터 세트에서는 성능 수치로 사용돼서는 안 된다. \n",
    "  - 극복 : 오차행렬에 대해 알아보자"
   ]
  },
  {
   "cell_type": "markdown",
   "id": "5676c6ec-9240-4c77-ab0d-12a65d4984c5",
   "metadata": {},
   "source": [
    "- 오차 행렬\n",
    "  - 이진 분류에서 성능지표로 활용되는 오차행렬은 학습된 분류 모델이 예측을 수행하면서 얼마나 헷갈리고 있는지도 함께 보여주는 지표\n",
    "  - 이진 분류의 예측 오류가 얼마인지와 더불어 어떠한 유형의 예측 오류가 발생하고 있는지를 함께 나타내는 지표\n",
    "  - TN : True Negative \n",
    "  - FN : Fasle Negative\n",
    "  - FP : False Positive\n",
    "  - TP : True Positive\n",
    "  - 앞문자는 예측값과 실제값이 같은가 틀린가\n",
    "  - 뒤문자는 예측값"
   ]
  },
  {
   "cell_type": "code",
   "execution_count": 31,
   "id": "16b7da1d-7884-420d-a664-9ecead5862e7",
   "metadata": {},
   "outputs": [
    {
     "data": {
      "text/plain": [
       "array([[405,   0],\n",
       "       [ 45,   0]], dtype=int64)"
      ]
     },
     "execution_count": 31,
     "metadata": {},
     "output_type": "execute_result"
    }
   ],
   "source": [
    "from sklearn.metrics import confusion_matrix\n",
    "\n",
    "confusion_matrix(y_test, fakepred)"
   ]
  },
  {
   "cell_type": "markdown",
   "id": "b71bcc3a-d777-4388-ba6f-28ab9be05853",
   "metadata": {},
   "source": [
    "- 왼쪽, 오른쪽 = 예측클래스로서 N,P\n",
    "- 위, 아래 = 실제클래스로서 N,P"
   ]
  },
  {
   "cell_type": "markdown",
   "id": "554cd1b2-7d01-40a4-8e6d-f312e4e7875b",
   "metadata": {},
   "source": [
    "- 즉, (TN,FN) = (405,45)임을 알 수 있다."
   ]
  },
  {
   "cell_type": "markdown",
   "id": "35e2418e-eea2-40ab-bac6-c94cf0f3a144",
   "metadata": {},
   "source": [
    "- 이 값들을 조합해 Classifier의 성능 측정 지표를 알 수 있다.\n",
    "  - 정확도 : 예측값과 실제값이 얼마나 동일한가\n",
    "    - (TN + TP) / (TN + FP + FN + TP)\n",
    "    - 불균형한 이진 분류 데이터 세트에서는 Positive 데이터 건수가 매우 작기 때문에 데이터에 기반한 ML 알고리즘은 Positive보다는 Negative로 예측정확도가 높아지는 경향이 발생한다.\n",
    "    - 정확도는 불균형한 이진 분류 데이터 세트에서 부적합할  수 있다는 것이다.\n",
    "    - 정밀도나 재현율을 활용하는 게 더 좋다.\n",
    "    - 정밀도나 재현율은 Positive 데이터 세트의 예측 성능에 좀 더 초점을 맞춘 평가지표이다.\n",
    "  - 정밀도 (양성 예측 중 실제도 양성인 경우)\n",
    "    - TP / (FP + TP) \n",
    "    - Positive 예측 성능을 더욱 정밀하게 측정하기 위한 평가 지표로 양성 예측도라고도 불린다.\n",
    "  - 재현율 (실제 양성 중 예측도 양성인 경우)\n",
    "    - TP / (FN + TP)\n",
    "    - 민감도 또는 TPR(True Positive Rate)이라고 불린다.\n",
    "    - 암 판단 모델, 보험 사기와 같은 금융 사기 적발 모델과 같은 분야에서 중요할 것"
   ]
  },
  {
   "cell_type": "markdown",
   "id": "6d6f79bd-3129-4aa5-b9f1-abd21dfca703",
   "metadata": {},
   "source": [
    "- 보통은 재현율이 정밀도보다 상대적으로 중요한 업무가 多\n",
    "  - 재현율이 상대적으로 더 중요한 지표인 경우는 실제 Positive 양성인 데이터 예측을 Negative로 잘못 판단하게 되면 업무 상 큰 영향이 발생하는 경우\n",
    "  - 정밀도가 상대적으로 더 중요한 지표인 경우는 실제 Negative 음성인 데이터 예측을 Positive 양성으로 잘못 판단하게 되면 업무상 큰 영향이 발생하는 경우"
   ]
  },
  {
   "cell_type": "markdown",
   "id": "84246aa3-a1eb-4236-8af8-b472edb93656",
   "metadata": {},
   "source": [
    "- 재현율과 정밀도 모두 TP를 높이는 데 동일하게 초점을 맞추지만, 재현율은 FN를 낮추는 데, 정밀도는 FP를 낮추는 데 초점을 맞춘다.\n",
    "  - 서로 보완적인 지표로 분류의 성능을 평가하는 데 적용된다.\n",
    "  - 가장 좋은 성능 평가는 둘 다 높은 수치를 얻는 것"
   ]
  },
  {
   "cell_type": "markdown",
   "id": "b658640e-3f9d-4e96-879c-857f6340e80b",
   "metadata": {},
   "source": [
    "```python\n",
    "from sklearn.metrics import accuracy_score, precision_score , recall_score , confusion_matrix\n",
    "# (순서대로) 정확도, 정밀도, 재현율, 오차 행렬 불러옴\n",
    "\n",
    "# 평가를 한 번에 호출하는 함수\n",
    "def get_clf_eval(y_test , pred): # get classification evaluation\n",
    "    confusion = confusion_matrix( y_test, pred)\n",
    "    accuracy = accuracy_score(y_test , pred)\n",
    "    precision = precision_score(y_test , pred)\n",
    "    recall = recall_score(y_test , pred)\n",
    "    print('오차 행렬')\n",
    "    print(confusion)\n",
    "    print('정확도: {0:.4f}, 정밀도: {1:.4f}, 재현율: {2:.4f}'.format(accuracy , precision ,recall))\n",
    "# 로지스틱 회귀 기반 예측 수행 후, 평가해보자\n",
    "import numpy as np\n",
    "import pandas as pd\n",
    "from sklearn.model_selection import train_test_split \n",
    "from sklearn.linear_model import LogisticRegression # 로지스틱 회귀\n",
    "\n",
    "# 원본 데이터를 재로딩, 데이터 가공, 학습데이터/테스트 데이터 분할. \n",
    "titanic_df = pd.read_csv('train.csv')\n",
    "y_titanic_df = titanic_df['Survived'] # 정답 레이블 추출\n",
    "X_titanic_df= titanic_df.drop('Survived', axis=1) # feature 레이블 추출\n",
    "# train_test_split 함수 사용위해서 정답레이블과 feature 레이블을 분리해서 넣어주어야 한다.그래서 분리해서 따로 저장해두었던 것\n",
    "\n",
    "X_titanic_df = transform_features(X_titanic_df) # 앞에서 만들었던 데이터 전처리 한 번에 수행하는 함수\n",
    "\n",
    "X_train, X_test, y_train, y_test = train_test_split(X_titanic_df, y_titanic_df, \\\n",
    "                                                    test_size=0.20, random_state=11)\n",
    "\n",
    "lr_clf = LogisticRegression()\n",
    "\n",
    "lr_clf.fit(X_train , y_train) # 학습 수행 中\n",
    "pred = lr_clf.predict(X_test) # 예측 수행 中\n",
    "get_clf_eval(y_test , pred) # 평가해보자\n",
    "```"
   ]
  },
  {
   "cell_type": "markdown",
   "id": "49879c22-1cff-4bcb-a6a5-1f5da2e7f660",
   "metadata": {},
   "source": [
    "- 정밀도에 비해 재현율이 낮게 나왔다.\n",
    "  - 다시 review\n",
    "  - 정밀도 : 양성 예측 중 실제도 양성\n",
    "  - 재현율 : 실제 양성 중 예측도 양성"
   ]
  },
  {
   "cell_type": "markdown",
   "id": "a9eaa8ed-53cf-426d-ac0e-a7ea7e201da2",
   "metadata": {},
   "source": [
    "---"
   ]
  },
  {
   "cell_type": "markdown",
   "id": "daaaefc7-8eb4-4594-b07c-171de59a6038",
   "metadata": {},
   "source": [
    "- 정밀도/재현율 트레이드오프\n",
    "  - 분류하려는 업무의 특성상 정밀도 또는 재현율이 특별히 강조돼야 할 경우 분류의 결정 임계값(Threshold)을 조정해 정밀도 또는 재현율의 수치를 높일 수 있다.\n",
    "    - 사이킷런의 분류 알고리즘 : 일반적으로 이진 분류에서는 결정 임계값을 0.5로 정하고 이 기준 값보다 확률이 크면 Positive, 작으면 Negative로 결정.\n",
    "  - 그러나 이 둘은 상호보완적인 지표, 시소의 관계에 있다. 이를 정밀도/재현율의 트레이드오프라고 부른다."
   ]
  },
  {
   "cell_type": "markdown",
   "id": "a0401272-6872-4417-bf43-b03f1ab1a33a",
   "metadata": {},
   "source": [
    "- 개별 데이터별로 예측 확률을 반환하는 메서드인 predict_proba()\n",
    "- 학습이 완료된 사이킷런 Classifier 객체에서 호출이 가능.\n",
    "  - ```python\n",
    "  lr_clf.predict_proba(X_test)\n",
    "  ```\n",
    "- predict() 메서드와 유사하지만 반환 결과가 예측 결과 클래스 값이 아닌 예측 확률 결과이다.\n",
    "  - 첫 번째 칼럼이 클래스 값 0에 대한 예측 확률, 두 번째 칼럼이 클래스 값 1에 대한 예측 확률."
   ]
  },
  {
   "cell_type": "markdown",
   "id": "23aa5c71-8c85-4f3b-a774-5da32e1dd268",
   "metadata": {},
   "source": [
    "- predict_proba() 메서드와 predict() 메서드의 결과를 비교해보자"
   ]
  },
  {
   "cell_type": "markdown",
   "id": "6504aeb5-9ba7-473f-830c-8423e5138637",
   "metadata": {},
   "source": [
    "```python\n",
    "pred_proba = lr_clf.predict_proba(X_test)\n",
    "pred  = lr_clf.predict(X_test)\n",
    "print('pred_proba()결과 Shape : {0}'.format(pred_proba.shape))\n",
    "print('pred_proba array에서 앞 3개만 샘플로 추출 \\n:', pred_proba[:3])\n",
    "\n",
    "\n",
    "\n",
    "\n",
    "# 예측 확률 array 와 예측 결과값 array 를 concatenate 하여 예측 확률과 결과값을 한눈에 확인\n",
    "pred_proba_result = np.concatenate([pred_proba , pred.reshape(-1,1)],axis=1)\n",
    "print('두개의 class 중에서 더 큰 확률을 클래스 값으로 예측 \\n',pred_proba_result[:3])\n",
    "\n",
    "\n",
    "\n",
    "pred_proba_result에서, pred_proba는 2개의 칼럼, 그 옆에 한 개의 칼럼으로 이진 분류 결과값 붙여주기 위해서 \n",
    "reshape함수 사용했음\n",
    "reshape(-1,1) = 행은 상관하지 말고 1열로\n",
    "reshape(-1,3) = 행은 상관하지 말고 3열로\n",
    "reshape(1,-1) = 열은 상관하지 말고 1행으로\n",
    "reshape(4,-1) = 열은 상관하지 말고 4행으로\n",
    "\n",
    "np.concatenate => R에서의 rbind, cbind 느낌\n",
    "\n",
    "```"
   ]
  },
  {
   "cell_type": "markdown",
   "id": "f7b749bd-6ef8-4721-af25-a8891a213d5d",
   "metadata": {},
   "source": [
    "> 위에서 LogisticRegression 객체에서 fit을 수행하지 못했음. 그래서 해당 셀도 수행하지 못함. 개념만 정리하겠음"
   ]
  },
  {
   "cell_type": "markdown",
   "id": "3c629c99-130c-465f-b90c-df328500fe85",
   "metadata": {},
   "source": [
    "- 사실 predict() 메서드는 predict_proba() 메서드에 기반해 생성된 API이다.\n",
    "- 사이킷런은 분류 결정 임곗값을 조절해 정밀도와 재현율의 성능 수치를 상호 보완적으로 조정할 수 있다."
   ]
  },
  {
   "cell_type": "code",
   "execution_count": 32,
   "id": "741ac997-0580-4180-af83-5ee42112b8c8",
   "metadata": {},
   "outputs": [
    {
     "name": "stdout",
     "output_type": "stream",
     "text": [
      "[[0. 0. 1.]\n",
      " [1. 0. 0.]\n",
      " [0. 0. 1.]]\n"
     ]
    }
   ],
   "source": [
    "from sklearn.preprocessing import Binarizer\n",
    "\n",
    "\n",
    "X = [[ 1, -1,  2],\n",
    "     [ 2,  0,  0],\n",
    "     [ 0,  1.1, 1.2]]\n",
    "\n",
    "\n",
    "# threshold 기준값보다 같거나 작으면 0을, 크면 1을 반환\n",
    "binarizer = Binarizer(threshold=1.1)                     \n",
    "print(binarizer.fit_transform(X))"
   ]
  },
  {
   "cell_type": "markdown",
   "id": "0df89e25-1547-4650-8ab9-a36e68fec8bd",
   "metadata": {},
   "source": [
    "- 이제 이 Binarizer를 이용해 사이킷런의 predict()의 의사(pseudo) 코드를 만들어보자"
   ]
  },
  {
   "cell_type": "markdown",
   "id": "be08480d-a8b1-4bd2-9cd9-bc7eb3197601",
   "metadata": {},
   "source": [
    "```python\n",
    "#Binarizer의 threshold 설정값. 분류 결정 임곗값임.  \n",
    "custom_threshold = 0.5\n",
    "\n",
    "# predict_proba( ) 반환값의 두번째 컬럼(두개의 컬럼 중 하나는 Negative, 두 번째는 Positive칼럼)\n",
    "# 즉 Positive 클래스 컬럼 하나만 추출하여 Binarizer를 적용\n",
    "pred_proba_1 = pred_proba[:,1].reshape(-1,1) # 행은 상관하지 않고 1열로 추출\n",
    "\n",
    "binarizer = Binarizer(threshold=custom_threshold).fit(pred_proba_1) \n",
    "custom_predict = binarizer.transform(pred_proba_1)\n",
    "\n",
    "get_clf_eval(y_test, custom_predict)\n",
    "```"
   ]
  },
  {
   "cell_type": "markdown",
   "id": "e365a77f-a4d5-4be7-984d-556706705bfe",
   "metadata": {},
   "source": [
    "- 앞의 결과와 일맥상통\n",
    "  - 이제 진짜 threshold를 조정해보자"
   ]
  },
  {
   "cell_type": "markdown",
   "id": "96c48fc0-ad4d-46b1-9840-a1cde4bdfd1a",
   "metadata": {},
   "source": [
    "```python\n",
    "# Binarizer의 threshold 설정값을 0.4로 설정. 즉 분류 결정 임곗값을 0.5에서 0.4로 낮춤  \n",
    "custom_threshold = 0.4\n",
    "pred_proba_1 = pred_proba[:,1].reshape(-1,1)\n",
    "binarizer = Binarizer(threshold=custom_threshold).fit(pred_proba_1) \n",
    "custom_predict = binarizer.transform(pred_proba_1)\n",
    "\n",
    "get_clf_eval(y_test , custom_predict)\n",
    "```"
   ]
  },
  {
   "cell_type": "markdown",
   "id": "4f756576-916a-4175-958b-a5e3a05c933f",
   "metadata": {},
   "source": [
    "- 임계값 하향 조정\n",
    "  - 재현율 상승, 정밀도 하락\n",
    "    - threshold = Positive 예측값을 결정하는 확률의 기준.\n",
    "    - threshold 하향조정함으로써 Positive 결정이 너그러워졌음\n",
    "    - True 값이 많아졌다.\n",
    "    - Positive 예측값이 많아지면 상대적으로 재현율 값 상승\n",
    "    - 양성 예측을 많이 하다 보니 실제 양성을 음성으로 예측하는 횟수가 상대적으로 줄어듦"
   ]
  },
  {
   "cell_type": "markdown",
   "id": "39846ce3-33ad-47be-a4c7-751c0b0f38f9",
   "metadata": {},
   "source": [
    "- 임계값은 0.4에서 0.5, 0.6 증가시키며 평가지표 확인"
   ]
  },
  {
   "cell_type": "markdown",
   "id": "0d850e94-2a12-4632-8fcf-1a5ac3001c09",
   "metadata": {},
   "source": [
    "```python\n",
    "# 테스트를 수행할 모든 임곗값을 리스트 객체로 저장. \n",
    "thresholds = [0.4, 0.45, 0.50, 0.55, 0.60]\n",
    "\n",
    "def get_eval_by_threshold(y_test , pred_proba_c1, thresholds):\n",
    "    # thresholds list객체내의 값을 차례로 iteration하면서 Evaluation 수행.\n",
    "    for custom_threshold in thresholds:\n",
    "        binarizer = Binarizer(threshold=custom_threshold).fit(pred_proba_c1) \n",
    "        custom_predict = binarizer.transform(pred_proba_c1)\n",
    "        print('임곗값:',custom_threshold)\n",
    "        get_clf_eval(y_test , custom_predict)\n",
    "\n",
    "get_eval_by_threshold(y_test ,pred_proba[:,1].reshape(-1,1), thresholds )\n",
    "```"
   ]
  },
  {
   "cell_type": "markdown",
   "id": "08355c71-8b92-4810-a54f-adca1c9af664",
   "metadata": {},
   "source": [
    "- threshold가 0.45일 경우에 default 값이었던 0.5인 경우와 비교해서, 정확도 동일, 정밀도 약간 하락, 재현율 상승\n",
    "  - 재현율을 상승시키면서 다른 수치의 손해를 어느 정도 감안한다면 threshold = 0.45가 적당해 보인다."
   ]
  },
  {
   "cell_type": "markdown",
   "id": "5e7850c0-23e6-4fe3-9dc4-3cb293c5ce1d",
   "metadata": {},
   "source": [
    "----"
   ]
  },
  {
   "cell_type": "markdown",
   "id": "faec03f2-e9a2-4518-8ee9-ae3cecfdd1b0",
   "metadata": {},
   "source": [
    "- 이와 유사한 기능인 precision_recall_curve() API가 있다.\n",
    "  - threshold별 정밀도와 재현율 알 수 있다."
   ]
  },
  {
   "cell_type": "markdown",
   "id": "4d16c72a-4c24-4bc2-9256-972c9da719c3",
   "metadata": {},
   "source": [
    "- `precision_recall_curve()는 일반적으로 0.11~0.95 정도의 threshold를 담은 ndarray와 이 임계값에 해당하는 정밀도 및 재현율 값을 담은 ndarray를 반환한다` "
   ]
  },
  {
   "cell_type": "markdown",
   "id": "955e695a-0b42-483b-a13c-fc5cf5124045",
   "metadata": {},
   "source": [
    "```python\n",
    "from sklearn.metrics import precision_recall_curve\n",
    "\n",
    "# 레이블 값이 1일때의 예측 확률을 추출 \n",
    "pred_proba_class1 = lr_clf.predict_proba(X_test)[:, 1] \n",
    "\n",
    "# 실제값 데이터 셋(y_test)과 레이블 값이 1일 때의 예측 확률을 precision_recall_curve 인자로 입력 \n",
    "precisions, recalls, thresholds = precision_recall_curve(y_test, pred_proba_class1 )\n",
    "print('반환된 분류 결정 임곗값 배열의 Shape:', thresholds.shape)\n",
    "print('반환된 precisions 배열의 Shape:', precisions.shape)\n",
    "print('반환된 recalls 배열의 Shape:', recalls.shape)\n",
    "\n",
    "print(\"thresholds 5 sample:\", thresholds[:5])\n",
    "print(\"precisions 5 sample:\", precisions[:5])\n",
    "print(\"recalls 5 sample:\", recalls[:5])\n",
    "\n",
    "#반환된 임계값 배열 로우가 147건이므로 샘플로 10건만 추출하되, 임곗값을 15 Step으로 추출. \n",
    "thr_index = np.arange(0, thresholds.shape[0], 15)\n",
    "print('샘플 추출을 위한 임계값 배열의 index 10개:', thr_index)\n",
    "print('샘플용 10개의 임곗값: ', np.round(thresholds[thr_index], 2))\n",
    "\n",
    "# 15 step 단위로 추출된 임계값에 따른 정밀도와 재현율 값 \n",
    "print('샘플 임계값별 정밀도: ', np.round(precisions[thr_index], 3))\n",
    "print('샘플 임계값별 재현율: ', np.round(recalls[thr_index], 3))ㅡ\n",
    "```"
   ]
  },
  {
   "cell_type": "markdown",
   "id": "6fc3c2e3-35ff-40a6-9a0e-e9928e24c817",
   "metadata": {},
   "source": [
    "- threshold 값이 증가할수록 정밀도 값은 동시에 높아지나. 재현율 값은 낮아진다.\n",
    "- 정밀도와 재현율의 임계값에 따른 값 변화를 곡선 형태의 그래프로 시각화 할 수 있다. (166p 참고)"
   ]
  },
  {
   "cell_type": "markdown",
   "id": "5284575d-afe0-4bb8-9b52-63142084e0fc",
   "metadata": {},
   "source": [
    "-----"
   ]
  },
  {
   "cell_type": "markdown",
   "id": "a680c01d-b5cd-4a4f-ac1f-26c3284a876a",
   "metadata": {},
   "source": [
    "> 결론\n",
    "\n",
    "    Positive 예측의 임계값을 변경함에 따라 정밀도와 재현율의 수치가 변경된다. \n",
    "    임계값의 이러한 변경은 업무 환경에 맞게 두 개의 수치를 상호 보완할 수 있는 수준에서 적용돼야 한다.\n",
    "    물론 분류가 정밀도 또는 재현율 중 하나에 상대적인 중요도를 부여해 각 예측 상황에 맞는 분류 알고리즘을 튜닝할 수 있지만, 그렇다고 정밀도/재현율 중 하나만 강조하는 상황이 돼서는 안 된다. (예를 들어, 암 예측 모델에서 재현율을 높인다고 걸핏하면 양성으로 판단하는 건 지양해야 하듯 말이다.)"
   ]
  },
  {
   "cell_type": "markdown",
   "id": "d8a19551-3444-4cb0-910b-1826b500ef83",
   "metadata": {},
   "source": [
    "---"
   ]
  },
  {
   "cell_type": "markdown",
   "id": "3e076515-f276-4338-93fd-1314e24485c2",
   "metadata": {},
   "source": [
    "- F1 스코어\n",
    "  - 정밀도와 재현율을 결합한 지표\n",
    "  - 정밀도와 재현율이 어느 한쪽으로 치우치지 않는 수치를 나타낼 때 상대적으로 높은 값을 가진다.\n",
    "  - $2 * \\frac{precision * recall}{precision + recall}$"
   ]
  },
  {
   "cell_type": "markdown",
   "id": "5658a30c-69da-40b9-b88a-189f89e64fae",
   "metadata": {},
   "source": [
    "```python\n",
    "from sklearn.metrics import f1_score \n",
    "f1 = f1_score(y_test , pred)\n",
    "print('F1 스코어: {0:.4f}'.format(f1))\n",
    "```"
   ]
  },
  {
   "cell_type": "markdown",
   "id": "91569ad6-55a3-489d-bbf6-ec24cffb2100",
   "metadata": {},
   "source": [
    "- 임계값을 변화시키면서 F1 스코어를 포함한 평가 지표(정확도, 정밀도, 재현율, F1 스코어)를 구해보자"
   ]
  },
  {
   "cell_type": "markdown",
   "id": "7765f457-cfbe-438f-8219-ad91f88dd818",
   "metadata": {},
   "source": [
    "```python\n",
    "def get_clf_eval(y_test , pred):\n",
    "    confusion = confusion_matrix( y_test, pred) # 오차 행렬\n",
    "    accuracy = accuracy_score(y_test , pred) # 정확도\n",
    "    precision = precision_score(y_test , pred) # 정밀도\n",
    "    recall = recall_score(y_test , pred) # 재현율\n",
    "    f1 = f1_score(y_test,pred) # F1 스코어 추가\n",
    "    print('오차 행렬')\n",
    "    print(confusion)\n",
    "    # f1 score print 추가\n",
    "    print('정확도: {0:.4f}, 정밀도: {1:.4f}, 재현율: {2:.4f}, F1:{3:.4f}'.format(accuracy, precision, recall, f1))\n",
    "\n",
    "thresholds = [0.4 , 0.45 , 0.50 , 0.55 , 0.60]\n",
    "pred_proba = lr_clf.predict_proba(X_test)\n",
    "get_eval_by_threshold(y_test, pred_proba[:,1].reshape(-1,1), thresholds)\n",
    "```"
   ]
  },
  {
   "cell_type": "markdown",
   "id": "a43382fc-1511-4f95-b8f8-ed7d06e48dd8",
   "metadata": {},
   "source": [
    "- F1 스코어는 임곗값이 0.6일 때, 가장 좋은 값을 보여준다. \n",
    "  - 하지만 임곗값이 0.6인 경우에는 재현율이 크게 감소하고 있으니 주지해야 한다."
   ]
  },
  {
   "cell_type": "markdown",
   "id": "0dff0df9-d703-4658-9132-34091c72cd7a",
   "metadata": {},
   "source": [
    "---"
   ]
  },
  {
   "cell_type": "markdown",
   "id": "d0001e85-b774-4b7e-b5df-3778213717d4",
   "metadata": {},
   "source": [
    "- ROC 곡선과 AUC(Area Under Curve : 곡선하면적)\n",
    "  - ROC 곡선과 이에 기반한 AUC 스코어는 이진 분류의 예측 성능 측정에서 중요하게 사용되는 지표이다.\n",
    "  - ROC 곡선은 FPR(False Positive Rate) = 1 - TNR 또는 1 - 특이성이 변할 때, TPR(True Positive Rate) = 재현율, 민감도가 어떻게 변하는지를 나타내는 곡선이다."
   ]
  },
  {
   "cell_type": "markdown",
   "id": "c240bff0-f45c-4b8e-91f5-da1c262ba5e6",
   "metadata": {},
   "source": [
    "- 민감도(TPR)는 실제값 Positive가 정확히 예측돼야 하는 수준을 나타낸다. (질병이 있는 사람을 질병이 있는 것으로 양성 판정)\n",
    "- 특이성(TNR)은 실제값 Negative가 정확히 예측돼야 하는 수준을 나타낸다. (질병이 없는 사람을 질병이 없는 것으로 음성 판정)\n",
    "  - 민감도에 대응하는 지표가 특이성이다."
   ]
  },
  {
   "cell_type": "markdown",
   "id": "6bd64c5e-f450-4d3c-9b70-71258915d7da",
   "metadata": {},
   "source": [
    "- 사이킷런은 ROC 곡선을 구하기 위해 roc_curve() API를 제공.\n",
    "  - precision_recall_curve() API와 유사."
   ]
  },
  {
   "cell_type": "markdown",
   "id": "994a8629-a590-4083-816c-d1be619b2634",
   "metadata": {},
   "source": [
    "- ROC 곡선을 이용해 타이타닉 생존자 예측 모델의 FPR, TPR, 임계값을 구해 보자."
   ]
  },
  {
   "cell_type": "markdown",
   "id": "68b0896d-1401-4d6d-afa3-93ffc059ba06",
   "metadata": {},
   "source": [
    "```python\n",
    "from sklearn.metrics import roc_curve\n",
    "\n",
    "# 레이블 값이 1일때의 예측 확률을 추출 \n",
    "pred_proba_class1 = lr_clf.predict_proba(X_test)[:, 1] \n",
    "\n",
    "fprs , tprs , thresholds = roc_curve(y_test, pred_proba_class1)\n",
    "# 반환 결과 \n",
    "# fpr = fpr 값을 array로 반환\n",
    "# tpr = tpr 값을 array로 반환\n",
    "# threshold = threshold 값 array\n",
    "\n",
    "# 반환된 임곗값 배열 로우가 47건이므로 샘플로 10건만 추출하되, 임곗값을 5 Step으로 추출. \n",
    "thr_index = np.arange(0, thresholds.shape[0], 5)\n",
    "print('샘플 추출을 위한 임곗값 배열의 index 10개:', thr_index)\n",
    "print('샘플용 10개의 임곗값: ', np.round(thresholds[thr_index], 2))\n",
    "\n",
    "# 5 step 단위로 추출된 임계값에 따른 FPR, TPR 값\n",
    "print('샘플 임곗값별 FPR: ', np.round(fprs[thr_index], 3))\n",
    "print('샘플 임곗값별 TPR: ', np.round(tprs[thr_index], 3))\n",
    "```"
   ]
  },
  {
   "cell_type": "markdown",
   "id": "11aaaf39-4667-41e6-b8f2-0c8966054ebe",
   "metadata": {},
   "source": [
    "- 임곗값이 1에 가까운 값에서 점점 작아지면서 FPR이 점점 커진다.\n",
    "  - 임계값이 점점 작아진다 -> Positive 확률이 높아진다 -> FPR이 점점 커진다\n",
    "  - 그리고 FPR이 조금씩 커질 때, TPR은 가파르게 커짐을 알 수 있다."
   ]
  },
  {
   "cell_type": "markdown",
   "id": "51e29791-84bc-4c3a-990d-a172b813b6f4",
   "metadata": {},
   "source": [
    "- ROC 곡선은 원점을 지나는 직선에 가까울수록 성능이 떨어지는 것이며, 멀어질수록 성능이 뛰어난 것이다."
   ]
  },
  {
   "cell_type": "markdown",
   "id": "ddadd520-5144-4c5e-871e-67fb3ad66c7e",
   "metadata": {},
   "source": [
    "- 일반적으로 ROC 곡선 자체는 FPR과 TPR의 변화 값을 보는 데 이용하며 분류의 성능 지표로 사용되는 것은 ROC 곡선 면적에 기반한 AUC 값으로 결정한다.\n",
    "- AUC 값은 일반적으로 1에 가까울수록 좋은 수치이다. \n",
    "- AUC가 커지려면 FPR이 작은 상테에서 얼마나 큰 TPR을 얻을 수 있느냐가 관건이다. "
   ]
  },
  {
   "cell_type": "markdown",
   "id": "bfb47b7d-0493-4e10-b428-78fcd02e0d8c",
   "metadata": {},
   "source": [
    "```python\n",
    "from sklearn.metrics import roc_auc_score\n",
    "\n",
    "pred_proba = lr_clf.predict_proba(X_test)[:, 1]\n",
    "roc_score = roc_auc_score(y_test, pred_proba)\n",
    "print('ROC AUC 값: {0:.4f}'.format(roc_score))\n",
    "```"
   ]
  },
  {
   "cell_type": "markdown",
   "id": "5d767ea3-70bd-4587-8838-f0c08f8e4ae7",
   "metadata": {},
   "source": [
    "- 타이타닉 생존자 예측 로지스틱 회귀 모델의 ROC AUC 값은 0.9024로 추정됐다."
   ]
  },
  {
   "cell_type": "markdown",
   "id": "167aec63-41c2-453e-876d-e36adb9d7b99",
   "metadata": {},
   "source": [
    "```python\n",
    "def get_clf_eval(y_test, pred=None, pred_proba=None):\n",
    "    confusion = confusion_matrix( y_test, pred)\n",
    "    accuracy = accuracy_score(y_test , pred)\n",
    "    precision = precision_score(y_test , pred)\n",
    "    recall = recall_score(y_test , pred)\n",
    "    f1 = f1_score(y_test,pred)\n",
    "    #### ROC-AUC 추가 #### \n",
    "    roc_auc = roc_auc_score(y_test, pred_proba)\n",
    "    print('오차 행렬')\n",
    "    print(confusion)\n",
    "    # ROC-AUC print 추가\n",
    "    print('정확도: {0:.4f}, 정밀도: {1:.4f}, 재현율: {2:.4f},\\\n",
    "          F1: {3:.4f}, AUC:{4:.4f}'.format(accuracy, precision, recall, f1, roc_auc))\n",
    "```"
   ]
  },
  {
   "cell_type": "markdown",
   "id": "b6d4347e-bc0c-4f5a-bad9-766a57f18628",
   "metadata": {},
   "source": [
    "- ROC AUC는 예측 확률값을 기반으로 계산되므로 이를 get_clf_eval() 함수의 인자로 받을 수 있도록 \n",
    "```python\n",
    "def get_clf_eval(y_test, pred=None, pred_proba=None):\n",
    "```\n",
    "- 로 함수형을 변경해준다. "
   ]
  },
  {
   "cell_type": "markdown",
   "id": "bec84d7e-6801-47e3-a873-bbb7dbfcc68f",
   "metadata": {},
   "source": [
    "> ### 함수에서 인자의 값으로 None 입력 ?\n",
    "\n",
    "    값을 따로 주지 않으면, 실행 자체가 안 된다.\n",
    "    None을 줌으로써 사용안 할 땐 그냥 할당하지 않으면 되고, 사용할 땐 할당을 해주면 된다."
   ]
  },
  {
   "cell_type": "code",
   "execution_count": 13,
   "id": "16deefc4-c579-4f63-8a10-162d997bfebc",
   "metadata": {},
   "outputs": [],
   "source": [
    "def f1(a,b=None):\n",
    "    print(a)\n",
    "    print(b)"
   ]
  },
  {
   "cell_type": "code",
   "execution_count": 14,
   "id": "46a81caa-05b8-4895-8c3b-effdc8b56275",
   "metadata": {},
   "outputs": [
    {
     "name": "stdout",
     "output_type": "stream",
     "text": [
      "123\n",
      "None\n"
     ]
    }
   ],
   "source": [
    "f1(123)"
   ]
  },
  {
   "cell_type": "code",
   "execution_count": 15,
   "id": "7e9723af-f108-4c89-801c-51d12181bb25",
   "metadata": {},
   "outputs": [
    {
     "name": "stdout",
     "output_type": "stream",
     "text": [
      "123\n",
      "14\n"
     ]
    }
   ],
   "source": [
    "f1(123,14)"
   ]
  }
 ],
 "metadata": {
  "kernelspec": {
   "display_name": "Python 3 (ipykernel)",
   "language": "python",
   "name": "python3"
  },
  "language_info": {
   "codemirror_mode": {
    "name": "ipython",
    "version": 3
   },
   "file_extension": ".py",
   "mimetype": "text/x-python",
   "name": "python",
   "nbconvert_exporter": "python",
   "pygments_lexer": "ipython3",
   "version": "3.8.11"
  }
 },
 "nbformat": 4,
 "nbformat_minor": 5
}
