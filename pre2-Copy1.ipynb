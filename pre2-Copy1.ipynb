{
 "cells": [
  {
   "cell_type": "markdown",
   "id": "3072af5b-6806-4801-8e75-07056e586de7",
   "metadata": {},
   "source": [
    "# review 2"
   ]
  },
  {
   "cell_type": "markdown",
   "id": "9726d107-8e4d-4779-b8b7-8a94a97b6559",
   "metadata": {},
   "source": [
    "- 사이킷런으로 시작하는 머신러닝"
   ]
  },
  {
   "cell_type": "code",
   "execution_count": 2,
   "id": "ee353de3-9828-4d09-8d21-79d1d596afab",
   "metadata": {},
   "outputs": [],
   "source": [
    "import sklearn"
   ]
  },
  {
   "cell_type": "markdown",
   "id": "c7f1287c-866c-40a8-9ea5-966cc9b4d893",
   "metadata": {},
   "source": [
    "- 첫 번째 머신러닝 만들어보기 - 붓꽃 품종 예측하기\n",
    "  - 붓꽃 데이터 세트로 붓꽃의 품종을 분류해보자\n",
    "  - 분류는 대표적인 지도학습 방법의 하나이다. \n",
    "  - 학습을 위한 다양한 피처와 분류 결정값인 레이블 데이터로 모델을 학습한 뒤, 별도의 테스트 데이터 세트에서 미지의 레이블을 예측한다. \n",
    "  - 즉, 지도학습은 명확한 정답이 주어진 데이터를 먼저 학습한 뒤 미지의 정답을 예측하는 방식이다. "
   ]
  },
  {
   "cell_type": "code",
   "execution_count": 2,
   "id": "a24d6e7d-4b91-496a-877a-744dbbfdfebc",
   "metadata": {},
   "outputs": [
    {
     "name": "stdout",
     "output_type": "stream",
     "text": [
      "iris target값: [0 0 0 0 0 0 0 0 0 0 0 0 0 0 0 0 0 0 0 0 0 0 0 0 0 0 0 0 0 0 0 0 0 0 0 0 0\n",
      " 0 0 0 0 0 0 0 0 0 0 0 0 0 1 1 1 1 1 1 1 1 1 1 1 1 1 1 1 1 1 1 1 1 1 1 1 1\n",
      " 1 1 1 1 1 1 1 1 1 1 1 1 1 1 1 1 1 1 1 1 1 1 1 1 1 1 2 2 2 2 2 2 2 2 2 2 2\n",
      " 2 2 2 2 2 2 2 2 2 2 2 2 2 2 2 2 2 2 2 2 2 2 2 2 2 2 2 2 2 2 2 2 2 2 2 2 2\n",
      " 2 2]\n",
      "iris target명: ['setosa' 'versicolor' 'virginica']\n"
     ]
    },
    {
     "data": {
      "text/html": [
       "<div>\n",
       "<style scoped>\n",
       "    .dataframe tbody tr th:only-of-type {\n",
       "        vertical-align: middle;\n",
       "    }\n",
       "\n",
       "    .dataframe tbody tr th {\n",
       "        vertical-align: top;\n",
       "    }\n",
       "\n",
       "    .dataframe thead th {\n",
       "        text-align: right;\n",
       "    }\n",
       "</style>\n",
       "<table border=\"1\" class=\"dataframe\">\n",
       "  <thead>\n",
       "    <tr style=\"text-align: right;\">\n",
       "      <th></th>\n",
       "      <th>sepal length (cm)</th>\n",
       "      <th>sepal width (cm)</th>\n",
       "      <th>petal length (cm)</th>\n",
       "      <th>petal width (cm)</th>\n",
       "      <th>label</th>\n",
       "    </tr>\n",
       "  </thead>\n",
       "  <tbody>\n",
       "    <tr>\n",
       "      <th>0</th>\n",
       "      <td>5.1</td>\n",
       "      <td>3.5</td>\n",
       "      <td>1.4</td>\n",
       "      <td>0.2</td>\n",
       "      <td>0</td>\n",
       "    </tr>\n",
       "    <tr>\n",
       "      <th>1</th>\n",
       "      <td>4.9</td>\n",
       "      <td>3.0</td>\n",
       "      <td>1.4</td>\n",
       "      <td>0.2</td>\n",
       "      <td>0</td>\n",
       "    </tr>\n",
       "    <tr>\n",
       "      <th>2</th>\n",
       "      <td>4.7</td>\n",
       "      <td>3.2</td>\n",
       "      <td>1.3</td>\n",
       "      <td>0.2</td>\n",
       "      <td>0</td>\n",
       "    </tr>\n",
       "  </tbody>\n",
       "</table>\n",
       "</div>"
      ],
      "text/plain": [
       "   sepal length (cm)  sepal width (cm)  petal length (cm)  petal width (cm)  \\\n",
       "0                5.1               3.5                1.4               0.2   \n",
       "1                4.9               3.0                1.4               0.2   \n",
       "2                4.7               3.2                1.3               0.2   \n",
       "\n",
       "   label  \n",
       "0      0  \n",
       "1      0  \n",
       "2      0  "
      ]
     },
     "execution_count": 2,
     "metadata": {},
     "output_type": "execute_result"
    }
   ],
   "source": [
    "from sklearn.datasets import load_iris\n",
    "from sklearn.tree import DecisionTreeClassifier # 트리 기반 ML 알고리즘 구현한 클래스 모임 모듈\n",
    "from sklearn.model_selection import train_test_split\n",
    "import pandas as pd\n",
    "\n",
    "# 붓꽃 데이터 세트를 로딩합니다.\n",
    "# from sklearn.datasets import load_iris 선이행 돼야 함\n",
    "iris = load_iris()\n",
    "# DICT 형태로 되어있다.\n",
    "# key와 value 형태로 되어있음\n",
    "\n",
    "\n",
    "# iris.data는 Iris 데이터 세트에서 피처(feature)만으로 된 데이터를 numpy로 가지고 있습니다. \n",
    "# DICT에서 특정 키를 불러오는 방법 기억해두자\n",
    "iris_data = iris.data\n",
    "\n",
    "\n",
    "# iris.target은 붓꽃 데이터 세트에서 레이블(결정 값) 데이터를 numpy로 가지고 있습니다. \n",
    "iris_label = iris.target\n",
    "print('iris target값:', iris_label)\n",
    "print('iris target명:', iris.target_names)\n",
    "\n",
    "# 붓꽃 데이터 세트를 자세히 보기 위해 DataFrame으로 변환합니다. \n",
    "iris_df = pd.DataFrame(data=iris_data, columns=iris.feature_names)\n",
    "iris_df['label'] = iris.target # label 칼럼 새로 생성해주었음\n",
    "iris_df.head(3)"
   ]
  },
  {
   "cell_type": "code",
   "execution_count": 3,
   "id": "f9f0fcd7-6ed8-4d6c-ada0-9254ef7aed9c",
   "metadata": {},
   "outputs": [],
   "source": [
    "# iris\n",
    "# key와 value 형태로 되어있음을 확인할 수 있다. "
   ]
  },
  {
   "cell_type": "markdown",
   "id": "f96e6ef3-8124-45b7-b146-54ebc986486f",
   "metadata": {},
   "source": [
    "- 이어서 다음 날"
   ]
  },
  {
   "cell_type": "markdown",
   "id": "e93dcf41-c45a-443e-9275-d89c2a05b22e",
   "metadata": {},
   "source": [
    "---"
   ]
  },
  {
   "cell_type": "markdown",
   "id": "22f2eea0-12b5-4f9a-9178-2fd9371b7b9a",
   "metadata": {},
   "source": [
    "- 학습용 데이터와 테스트용 데이터를 분리."
   ]
  },
  {
   "cell_type": "code",
   "execution_count": 5,
   "id": "f85e10fa-a0cd-4763-8a5a-344ce0813ccb",
   "metadata": {},
   "outputs": [],
   "source": [
    "X_train, X_test, y_train, y_test = train_test_split(iris_data, iris_label, test_size = 0.2, random_state = 11)\n",
    "# random_state = 11 -> 호출할 때마다 같은 학습/테스트용 데이터 세트를 생성하기 위해 주어지는 난수 발생 값.\n",
    "# X_train, X_test, y_train, y_test = 학습 데이터, 테스트 데이터, 학습 레이블, 테스트 레이블"
   ]
  },
  {
   "cell_type": "markdown",
   "id": "7da7ab7b-2ff1-47b9-9a9e-52ee34f90796",
   "metadata": {},
   "source": [
    "- 의사 결정 트리를 이용해 학습과 예측을 수행해보자"
   ]
  },
  {
   "cell_type": "code",
   "execution_count": 7,
   "id": "1584778d-9fea-469c-854f-815ed2880c53",
   "metadata": {},
   "outputs": [
    {
     "data": {
      "text/plain": [
       "DecisionTreeClassifier(random_state=11)"
      ]
     },
     "execution_count": 7,
     "metadata": {},
     "output_type": "execute_result"
    }
   ],
   "source": [
    "# DecisionTreeClassifier 객체 생성\n",
    "dt_clf = DecisionTreeClassifier(random_state=11)\n",
    "\n",
    "# DecisionTreeClassifier 객체의 fit() 메서드에 학습용 피처 데이터 속성과 결정값 데이터 세트를 입력해 호출하면 학습을 수행한다.\n",
    "# 학습 수행중\n",
    "dt_clf.fit(X_train, y_train)"
   ]
  },
  {
   "cell_type": "markdown",
   "id": "a5a71690-9bf4-4dcf-9117-ba79471956d7",
   "metadata": {},
   "source": [
    "- 학습 완료되었음\n",
    "- DecisionTreeClassifier의 객체인 dt_clf가 학습 완료됐기에, dt_clf의 메서드 중 predict를 이용하여 예측을 수행한다.\n",
    "- 예측 수행해보자\n",
    "  - 이때 예측은 반드시 학습데이터가 아닌 다른 데이터를 이용해야 하며, 일반적으로 테스트 데이터 세트를 이용한다. "
   ]
  },
  {
   "cell_type": "code",
   "execution_count": 8,
   "id": "d4ff8254-2578-49db-b2a1-6375bb907719",
   "metadata": {},
   "outputs": [],
   "source": [
    "# 학습이 완료된 DecisionTreeClassifier 객체에서 테스트 데이터 세트로 예측 수행\n",
    "pred = dt_clf.predict(X_test)"
   ]
  },
  {
   "cell_type": "code",
   "execution_count": 11,
   "id": "127471c1-2c2c-4b24-b1d7-2765e7a288d9",
   "metadata": {},
   "outputs": [
    {
     "data": {
      "text/plain": [
       "array([2, 2, 1, 1, 2, 0, 1, 0, 0, 1, 1, 1, 1, 2, 2, 0, 2, 1, 2, 2, 1, 0,\n",
       "       0, 1, 0, 0, 2, 1, 0, 1])"
      ]
     },
     "execution_count": 11,
     "metadata": {},
     "output_type": "execute_result"
    }
   ],
   "source": [
    "# 예측 결과\n",
    "pred"
   ]
  },
  {
   "cell_type": "markdown",
   "id": "972496d9-de67-4ee8-9ce1-f13a43c86b6d",
   "metadata": {},
   "source": [
    "- 예측 결과 기반으로 의사 결정 트리 기반의 예측 성능을 평가해보자\n",
    "- 여러가지 성능 평가 방법 중 정확도를 측정해보자\n",
    "  - 예측 결과가 실제 레이블 값과 얼마나 정확하게 맞는지를 평가하는 지표.\n",
    "  - 즉 pred의 값과 y_test가 얼마나 일치하는지 확인하는 절차가 될 것"
   ]
  },
  {
   "cell_type": "code",
   "execution_count": 12,
   "id": "8305b635-2fad-4b44-bd48-eb73e03461d2",
   "metadata": {},
   "outputs": [
    {
     "name": "stdout",
     "output_type": "stream",
     "text": [
      "예측 정확도: 0.933333\n"
     ]
    }
   ],
   "source": [
    "from sklearn.metrics import accuracy_score\n",
    "print('예측 정확도: {0:4f}'.format(accuracy_score(y_test,pred)))"
   ]
  },
  {
   "cell_type": "markdown",
   "id": "d07ce8fb-2b4a-4afc-99af-98a864fc4eea",
   "metadata": {},
   "source": [
    "- 절차\n",
    "  - 1) 데이터 세트 분리\n",
    "  - 2) 모델 학습\n",
    "  - 3) 예측 수행\n",
    "  - 4) 평가(예측된 결괏값과 테스트 레이블 데이터의 실제 결괏값을 비교해 ML 모델 성능을 평가한다)"
   ]
  },
  {
   "cell_type": "markdown",
   "id": "a6874830-f01f-4b18-bfb9-eb4e69893286",
   "metadata": {},
   "source": [
    "---"
   ]
  },
  {
   "cell_type": "markdown",
   "id": "13f8c663-2d3e-41e8-b21a-603b358ece6b",
   "metadata": {},
   "source": [
    "- 사이킷런의 기반 프레임워크 익히기\n",
    "  - 사이킷런은 ML 모델 학습을 위해서 fit()을 학습된 모델의 예측을 위해 predict() 메서드를 제공\n",
    "  - 지도학습의 주요 두 축인 분류와 회귀의 다양한 알고리즘을 구현한 모든 사이킷런 클래스는 fit()과 predict()만을 이용해 학습과 예측 결과를 반환할 수 있다. "
   ]
  },
  {
   "cell_type": "markdown",
   "id": "6dc78f76-7f4a-46ea-a10b-ff2dc35b079b",
   "metadata": {},
   "source": [
    "- Classifier와 Regressor를 합쳐서 Estimator 클래스라고 부른다. \n",
    "- 즉, 지도학습의 모든 알고리즘을 구현한 클래스를 통칭해서 Estimator라고 부른다. 따라서 당연히 Estimator 클래스는 fit()과 predict()를 내부에서 구현하고 있다. "
   ]
  },
  {
   "cell_type": "markdown",
   "id": "6b09d85c-ee0d-4cf8-82a8-ab2c1a6a43b3",
   "metadata": {},
   "source": [
    "- ***cross_val_score()와 같은 evaluation 함수, GridSearchCV와 같은 하이퍼 파라미터 튜닝을 지원하는 클래스의 경우 이 Estimator를 인자로 받는다. 인자로 받은 Estimator에 대해서 cross_val_score(), GridSearchCV.fit() 함수 내에서 이 Estimator의 fit()과 predict()를 호출해서 평가를 하거나 하이퍼 파라미터 튜닝을 수행하는 것이다.***"
   ]
  },
  {
   "cell_type": "markdown",
   "id": "7b55e48f-5d67-4ba8-9305-10be622bdaa5",
   "metadata": {},
   "source": [
    "- 사이킷런에서 비지도학습인 차원 축소, 클러스트링, 피처 추출 등을 구현한 클래스 역시 대부분 fit(), transform()을 적용한다. \n",
    "  - 비지도 학습과 피처 추출에서 fit()은 지도학습에서의 fit()과 같이 학습을 의미하는 것이 아니라 입력 데이터의 형태에 맞춰 데이터를 변환하기 위한 사전 구조를 맞추는 작업이다.\n",
    "  - fit()으로 변환을 위한 사전 구조를 맞추면 이후 입력 데이터의 차원 변환, 클러스트링, 피처 추출 등의 실제 작업은 transform()으로 수행한다. \n",
    "  - 사이킷런은 fit()과 transform()을 하나로 결합한 fit_transform()도 함께 제공한다. (함께 사용하는만큼 주의가 필요.)"
   ]
  },
  {
   "cell_type": "markdown",
   "id": "f6e9e8ed-26e1-429a-9942-a0fccf998967",
   "metadata": {},
   "source": [
    "---"
   ]
  },
  {
   "cell_type": "markdown",
   "id": "b0b4828c-8d17-4ea7-bc27-204d2779e82e",
   "metadata": {},
   "source": [
    "- 사이킷런의 주요 모듈\n",
    "\n",
    "```python\n",
    "sklearn.datasets # 사이킷런에 내장돼 있는 예제로 제공하는 데이터 세트\n",
    "sklearn.preprocessing # 데이터 전처리에 필요한 다양한 가공 기능 제공(문자열을 숫자형 코드 값으로 인코딩, 정규화, 스케일링 등)\n",
    "```\n",
    "그 외의 다양한 모듈들에 대해서는 교재 94p를 참고한다. "
   ]
  },
  {
   "cell_type": "markdown",
   "id": "e006f393-0c97-4c1e-aa4f-7c5bb4c2c356",
   "metadata": {},
   "source": [
    "- 일반적으로 머신러닝 모델을 구축하는 주요 프로세스는 피처의 가공, 변경, 추출을 수행하는 피처 처리, ML 알고리즘 학습/예측 수행, 그리고 모델 평가의 단계를 반복적으로 수행하는 것."
   ]
  },
  {
   "cell_type": "markdown",
   "id": "929ec8a9-1614-472b-aadd-6de005fe3669",
   "metadata": {},
   "source": [
    "---"
   ]
  },
  {
   "cell_type": "markdown",
   "id": "8fbb9058-3fbc-4126-8a92-8896d8645002",
   "metadata": {},
   "source": [
    "- 분류와 클러스트링을 위한 표본 데이터 생성기\n",
    "```python\n",
    "datasets.make_classifications() # 분류를 위한 데이터 세트를 무작위로 생성\n",
    "datasets.make_blobs() # 클러스트링을 위한 데이터 세트를 무작위로 생성\n",
    "```\n",
    "- 사이킷런에 내장된 이 데이터 세트는 일반적으로 딕셔너리 형태로 돼 있다.\n",
    "  - 키는 보통 data, target(분류 시 레이블 값, 회귀 시 숫자 결괏값 데이터 세트), target_name(개별 레이블 이름), feature_names, DESCR(데이터 세트에 대한 설명과 각 피처의 설명)로 구성돼 있다. \n",
    "  - data,target은 넘파이 배열(ndarray), 나머지는 넘파이 배열 또는 파이썬 리스트 타입, DESCR은 스트링 타입"
   ]
  },
  {
   "cell_type": "markdown",
   "id": "30167733-4521-4363-b50a-ad5eeddfa115",
   "metadata": {},
   "source": [
    "---"
   ]
  },
  {
   "cell_type": "markdown",
   "id": "d2b767b3-510c-425f-ba3e-4db3aa923298",
   "metadata": {},
   "source": [
    "- feature의 데이터 값을 반환하기 위해서는 내장 데이터 세트 API를 호출한 뒤에 그 Key 값을 지정하면 된다.\n",
    "  - 예제를 통해 알아보자"
   ]
  },
  {
   "cell_type": "code",
   "execution_count": 2,
   "id": "775a731d-fdd3-4eee-9521-9acb8068eed6",
   "metadata": {},
   "outputs": [
    {
     "name": "stdout",
     "output_type": "stream",
     "text": [
      "<class 'sklearn.utils.Bunch'>\n"
     ]
    }
   ],
   "source": [
    "from sklearn.datasets import load_iris\n",
    "\n",
    "iris_data = load_iris()\n",
    "print(type(iris_data))"
   ]
  },
  {
   "cell_type": "markdown",
   "id": "12d080da-21f1-49eb-918b-e79fa3929262",
   "metadata": {},
   "source": [
    "- sklearn.utils.Bunch은 클래스로서 파이썬 딕셔너리 자료형과 유사\n",
    "  - 위에서 내가 DICT와 유사하다고 했는데 틀린 건 아니고 sklearn.utils.Bunch이 클래스가 DICT과 유사"
   ]
  },
  {
   "cell_type": "code",
   "execution_count": 6,
   "id": "164f16c2-8d89-4884-840c-3b65db37b916",
   "metadata": {},
   "outputs": [
    {
     "name": "stdout",
     "output_type": "stream",
     "text": [
      "붓꽃 데이터 세트의 키 :  dict_keys(['data', 'target', 'frame', 'target_names', 'DESCR', 'feature_names', 'filename'])\n"
     ]
    }
   ],
   "source": [
    "keys = iris_data.keys()\n",
    "print('붓꽃 데이터 세트의 키 : ', keys)"
   ]
  },
  {
   "cell_type": "markdown",
   "id": "5220e8af-6c66-485e-a50c-b0d76ff492b7",
   "metadata": {},
   "source": [
    "---"
   ]
  },
  {
   "cell_type": "markdown",
   "id": "af41165b-8ad8-413f-b67e-d61c0f34c2ba",
   "metadata": {},
   "source": [
    "- Model Selection 모듈 소개\n",
    "  - 학습 데이터와 테스트 데이터 세트를 분리, 교차 검증 분할 및 평가, 그리고 Estimator의 하이퍼 파라미터를 튜닝하기 위한 다양한 함수와 클래스를 제공."
   ]
  },
  {
   "cell_type": "markdown",
   "id": "9ab47fa9-4a68-4d97-a55f-c79ab80762f5",
   "metadata": {},
   "source": [
    "- 학습/테스트 데이터 세트 분리 - train_test_split()"
   ]
  },
  {
   "cell_type": "code",
   "execution_count": 8,
   "id": "a26f3b1a-6a1d-41db-8045-908e6d1c7912",
   "metadata": {},
   "outputs": [
    {
     "name": "stdout",
     "output_type": "stream",
     "text": [
      "예측 정확도 :  1.0\n"
     ]
    }
   ],
   "source": [
    "from sklearn.datasets import load_iris\n",
    "from sklearn.tree import DecisionTreeClassifier\n",
    "from sklearn.metrics import accuracy_score\n",
    "\n",
    "iris = load_iris()\n",
    "dt_clf = DecisionTreeClassifier()\n",
    "train_data = iris.data # 타겟은 제외\n",
    "train_label = iris.target # 타겟\n",
    "dt_clf.fit(train_data, train_label)\n",
    "\n",
    "# 학습 데이터 세트로 예측 수행\n",
    "pred = dt_clf.predict(train_data)\n",
    "print('예측 정확도 : ', accuracy_score(train_label, pred))"
   ]
  },
  {
   "cell_type": "markdown",
   "id": "eadafd76-545c-4e95-9fe9-80acb6983622",
   "metadata": {},
   "source": [
    "- 정확도 100%\n",
    "  - 위의 이미 학습한 학습 데이터 세트를 기반으로 예측했기 때문이다.\n",
    "    - 모의고사 답을 알고 있는 상태에서 동일 모의고사를 또 본 것.\n",
    "    - 그래서 sklearn.model_selection 모듈에서 train_test_split을 로드해야 한다."
   ]
  },
  {
   "cell_type": "code",
   "execution_count": 10,
   "id": "12b2a35d-d4af-405d-8ebe-1b7f1cce41b3",
   "metadata": {},
   "outputs": [],
   "source": [
    "from sklearn.tree import DecisionTreeClassifier\n",
    "from sklearn.metrics import accuracy_score\n",
    "from sklearn.datasets import load_iris\n",
    "from sklearn.model_selection import train_test_split\n",
    "\n",
    "dt_clf = DecisionTreeClassifier() # 객체 생성\n",
    "iris_data = load_iris()\n",
    "\n",
    "X_train, X_test, y_train, y_test = train_test_split(iris_data.data, iris_data.target, test_size = .3, random_state=121)\n",
    "# 추가적인 파라미터 : shuffle = True(가 디폴트) : 데이터를 분리하기 전에 데이터를 미리 섞을지 결정, 데이터를 분산시켜서 좀 더 효율적인 학습 및 테스트 데이터 세트를 만드는 데 사용된다."
   ]
  },
  {
   "cell_type": "markdown",
   "id": "ab8b1b80-f1dc-4cc2-91e9-dbd7435796b0",
   "metadata": {},
   "source": [
    "- 학습 데이터를 기반으로 학습 후 예측해보자"
   ]
  },
  {
   "cell_type": "code",
   "execution_count": 11,
   "id": "b44f6e5d-b5d9-4bcc-8701-dad739351358",
   "metadata": {},
   "outputs": [
    {
     "name": "stdout",
     "output_type": "stream",
     "text": [
      "예측 정확도: 0.9556\n"
     ]
    }
   ],
   "source": [
    "dt_clf.fit(X_train, y_train) # 학습\n",
    "pred = dt_clf.predict(X_test) # 예측\n",
    "print('예측 정확도: {0:.4f}'.format(accuracy_score(y_test, pred)))"
   ]
  },
  {
   "cell_type": "markdown",
   "id": "d9552fce-f4c5-494e-8704-b2443ac18ed6",
   "metadata": {},
   "source": [
    "- 교차 검증(부제 : 다양한 모의고사 수행)\n",
    "  - 모델이 학습 데이터에만 과도하게 최적화되어 실제 예측을 다른 데이터로 수행할 경우 예측 성능이 과도하게 떨어지는 `과적합` 방지.\n",
    "  - 데이터 편증 방지"
   ]
  },
  {
   "cell_type": "markdown",
   "id": "e882e0e5-2f32-4440-b25a-e632657688a6",
   "metadata": {},
   "source": [
    "- K 폴드 교차 검증은 가장 보편적으로 사용되는 교차 검증 기법\n",
    "  - 먼저 K개의 데이터 폴드 세트를 만들어서 K번만큼 각 폴드 세트에 학습과 검증 평가(1차 평가)를 반복적으로 수행\n",
    "  - K번 평가를 수행 뒤, 평균한 결과를 가지고 예측 성능을 평가.\n",
    "  - 예를 들어 K=5라면, 데이터를 5등분하고, (이해의 편의를 위해 번호매긴다면) 첫 번째 평가는 5번 덩어리, 두 번째 평가는 4번 덩어리..이런식으로 5번 반복!"
   ]
  },
  {
   "cell_type": "code",
   "execution_count": 15,
   "id": "aa5545b7-2c42-458c-b123-8b078c4a7955",
   "metadata": {},
   "outputs": [
    {
     "name": "stdout",
     "output_type": "stream",
     "text": [
      "붓꽃 데이터 세트 크기:  150\n"
     ]
    }
   ],
   "source": [
    "from sklearn.datasets import load_iris\n",
    "from sklearn.tree import DecisionTreeClassifier\n",
    "from sklearn.metrics import accuracy_score\n",
    "from sklearn.model_selection import KFold # 이 모듈에 아까 train_test_split 함수도 있었음\n",
    "import numpy as np\n",
    "\n",
    "iris = load_iris()\n",
    "features = iris.data\n",
    "label = iris.target\n",
    "dt_clf = DecisionTreeClassifier(random_state=156)\n",
    "\n",
    "kfold = KFold(n_splits = 5) # KFold 객체\n",
    "cv_accuracy = []  # 폴드 세트별 정확도를 담을 리스트 객체 생성\n",
    "print('붓꽃 데이터 세트 크기: ', features.shape[0])"
   ]
  },
  {
   "cell_type": "code",
   "execution_count": 18,
   "id": "01397c11-b525-4b28-af2d-bbb316b6e2eb",
   "metadata": {},
   "outputs": [
    {
     "data": {
      "text/plain": [
       "(150, 4)"
      ]
     },
     "execution_count": 18,
     "metadata": {},
     "output_type": "execute_result"
    }
   ],
   "source": [
    "features.shape"
   ]
  },
  {
   "cell_type": "code",
   "execution_count": 22,
   "id": "d27c765d-7c2c-4409-8e2e-55f9d5ef6197",
   "metadata": {},
   "outputs": [
    {
     "name": "stdout",
     "output_type": "stream",
     "text": [
      "\n",
      "#1 교차 검증 정확도 :1.0, 학습 데이터 크기: 120, 검증 데이터 크기: 30\n",
      "#1 검증 세트 인덱스:[ 0  1  2  3  4  5  6  7  8  9 10 11 12 13 14 15 16 17 18 19 20 21 22 23\n",
      " 24 25 26 27 28 29]\n",
      "\n",
      "#2 교차 검증 정확도 :0.9667, 학습 데이터 크기: 120, 검증 데이터 크기: 30\n",
      "#2 검증 세트 인덱스:[30 31 32 33 34 35 36 37 38 39 40 41 42 43 44 45 46 47 48 49 50 51 52 53\n",
      " 54 55 56 57 58 59]\n",
      "\n",
      "#3 교차 검증 정확도 :0.8667, 학습 데이터 크기: 120, 검증 데이터 크기: 30\n",
      "#3 검증 세트 인덱스:[60 61 62 63 64 65 66 67 68 69 70 71 72 73 74 75 76 77 78 79 80 81 82 83\n",
      " 84 85 86 87 88 89]\n",
      "\n",
      "#4 교차 검증 정확도 :0.9333, 학습 데이터 크기: 120, 검증 데이터 크기: 30\n",
      "#4 검증 세트 인덱스:[ 90  91  92  93  94  95  96  97  98  99 100 101 102 103 104 105 106 107\n",
      " 108 109 110 111 112 113 114 115 116 117 118 119]\n",
      "\n",
      "#5 교차 검증 정확도 :0.7333, 학습 데이터 크기: 120, 검증 데이터 크기: 30\n",
      "#5 검증 세트 인덱스:[120 121 122 123 124 125 126 127 128 129 130 131 132 133 134 135 136 137\n",
      " 138 139 140 141 142 143 144 145 146 147 148 149]\n",
      "\n",
      "## 평균 검증 정확도: 0.9\n"
     ]
    }
   ],
   "source": [
    "n_iter = 0\n",
    "\n",
    "# KFold객체의 split( ) 호출하면 폴드 별 학습용, 검증용 테스트의 row 인덱스를 array로 반환해줌!  \n",
    "for train_index, test_index  in kfold.split(features):\n",
    "    # kfold.split(features) 반환결과가 train_index, test_index 이 형태!\n",
    "    \n",
    "    # kfold.split( )으로 반환된 인덱스를 이용하여 학습용, 검증용 테스트 데이터 추출\n",
    "    X_train, X_test = features[train_index], features[test_index]\n",
    "    y_train, y_test = label[train_index], label[test_index]\n",
    "    \n",
    "    #학습 및 예측 \n",
    "    dt_clf.fit(X_train , y_train) # 학습    \n",
    "    pred = dt_clf.predict(X_test) # 예측\n",
    "    n_iter += 1 \n",
    "    \n",
    "    # 반복 시 마다 정확도 측정 \n",
    "    accuracy = np.round(accuracy_score(y_test,pred), 4)\n",
    "    train_size = X_train.shape[0]\n",
    "    test_size = X_test.shape[0]\n",
    "    print('\\n#{0} 교차 검증 정확도 :{1}, 학습 데이터 크기: {2}, 검증 데이터 크기: {3}'\n",
    "          .format(n_iter, accuracy, train_size, test_size))\n",
    "    print('#{0} 검증 세트 인덱스:{1}'.format(n_iter,test_index))\n",
    "    \n",
    "    cv_accuracy.append(accuracy)\n",
    "    \n",
    "# 개별 iteration별 정확도를 합하여 평균 정확도 계산 \n",
    "print('\\n## 평균 검증 정확도:', np.mean(cv_accuracy)) "
   ]
  },
  {
   "cell_type": "markdown",
   "id": "d4cd5dfa-e371-4a03-859f-8ca371ab8d1e",
   "metadata": {},
   "source": [
    "- 검증 시마다 검증 세트의 인덱스가 달라짐을 알 수 있다."
   ]
  },
  {
   "cell_type": "markdown",
   "id": "375c1f5b-389f-4b71-8484-d4a214b7ab1d",
   "metadata": {},
   "source": [
    "---"
   ]
  },
  {
   "cell_type": "markdown",
   "id": "f3acd781-6155-4234-879e-80517ad7db41",
   "metadata": {},
   "source": [
    "- 이어서"
   ]
  }
 ],
 "metadata": {
  "kernelspec": {
   "display_name": "Python 3 (ipykernel)",
   "language": "python",
   "name": "python3"
  },
  "language_info": {
   "codemirror_mode": {
    "name": "ipython",
    "version": 3
   },
   "file_extension": ".py",
   "mimetype": "text/x-python",
   "name": "python",
   "nbconvert_exporter": "python",
   "pygments_lexer": "ipython3",
   "version": "3.8.11"
  }
 },
 "nbformat": 4,
 "nbformat_minor": 5
}
